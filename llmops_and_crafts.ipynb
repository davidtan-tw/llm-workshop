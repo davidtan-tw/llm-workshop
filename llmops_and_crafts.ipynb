{
 "cells": [
  {
   "cell_type": "markdown",
   "metadata": {
    "id": "jme5Rb5tLs2C"
   },
   "source": [
    "## Setup"
   ]
  },
  {
   "cell_type": "markdown",
   "metadata": {},
   "source": [
    "If on Google Colab, you can use the cell below to clone the entire repo."
   ]
  },
  {
   "cell_type": "code",
   "execution_count": null,
   "metadata": {},
   "outputs": [],
   "source": [
    "!git init\n",
    "!git remote add origin https://github.com/mlops-and-crafts/llm-workshop.git\n",
    "!git fetch origin\n",
    "!git checkout origin/main -ft"
   ]
  },
  {
   "cell_type": "markdown",
   "metadata": {},
   "source": [
    "If you do not have access to a nvidia GPU, install dependencies here:"
   ]
  },
  {
   "cell_type": "code",
   "execution_count": null,
   "metadata": {},
   "outputs": [],
   "source": [
    "%pip install ctransformers behave"
   ]
  },
  {
   "cell_type": "markdown",
   "metadata": {},
   "source": [
    "Run this in Google Colab/Sagemaker studio or if you are running locally and have access to a GPU:"
   ]
  },
  {
   "cell_type": "code",
   "execution_count": null,
   "metadata": {
    "colab": {
     "base_uri": "https://localhost:8080/"
    },
    "id": "1fv9mLnUcWAV",
    "outputId": "099d0bac-9006-4d03-f055-bc00844c1062"
   },
   "outputs": [],
   "source": [
    "!pip uninstall ctransformers -y\n",
    "!CT_CUBLAS=1 pip install ctransformers --no-binary ctransformers\n",
    "!pip install behave"
   ]
  },
  {
   "cell_type": "markdown",
   "metadata": {},
   "source": [
    "Run this on Apple silicon (M1, M2):"
   ]
  },
  {
   "cell_type": "code",
   "execution_count": null,
   "metadata": {},
   "outputs": [],
   "source": [
    "!pip uninstall ctransformers -y\n",
    "!CT_METAL=1 pip install ctransformers --no-binary ctransformers"
   ]
  },
  {
   "cell_type": "markdown",
   "metadata": {},
   "source": [
    "## Smoke test"
   ]
  },
  {
   "cell_type": "markdown",
   "metadata": {
    "id": "epHSyIrG02LS"
   },
   "source": [
    "**Smoke test**: Check that the model is loaded successfully and generates good-quality responses"
   ]
  },
  {
   "cell_type": "code",
   "execution_count": null,
   "metadata": {
    "colab": {
     "base_uri": "https://localhost:8080/",
     "height": 81,
     "referenced_widgets": [
      "e88c77cd123f4d9b99163b749b364afc",
      "39cbc986c106438cb6772cd87105de23",
      "33a2755be296447a87c819a5c24b5841",
      "80c03349e1cd46f7b1888d76cbc4466e",
      "f2cd65eb4c684891a652f47874e29ff5",
      "f9efa2151b7d45a683cb071c6b19bf65",
      "1dfcb5f6b08e414d8bbc57c04f0c50e1",
      "b231a0f884af4ce89be01ff5b569e028",
      "a6c79dc4876a47dfb8581e88142b8621",
      "45702ec8fb0147be85191fb113310b3e",
      "acc3b209bb3d46278aac2c2e59e7dd5a",
      "e917645a4e4d4b1c8ea27ff6404c2340",
      "1ae1beebd8f54193b08d4a5d0eec5c85",
      "c62b01d2c8aa48db92f40a10ce1301d3",
      "46c3c75ae41347249251b8752673c8a7",
      "fb100cca2c644048aeaea9a52bb5cc71",
      "758fde3020e042c780ae4b87350ca083",
      "201f6407dabe447ab26bd9ced5a2da50",
      "41beaf32ea664566b61daf9736a37524",
      "2be3c5ffa0934b208b69d5cc83d09e45",
      "c0e629fdd8cb440b9561b1a138fe3077",
      "93589c02ebc245deba7ce80748f504a2"
     ]
    },
    "id": "PyjLC0wVc3Q3",
    "outputId": "3fc47f0f-471d-47e2-8088-e227be96ac80"
   },
   "outputs": [],
   "source": [
    "from ctransformers import AutoModelForCausalLM\n",
    "\n",
    "llm = AutoModelForCausalLM.from_pretrained(\n",
    "    \"TheBloke/Llama-2-7B-Chat-GGML\",\n",
    "    model_file=\"llama-2-7b-chat.ggmlv3.q4_0.bin\",\n",
    "    model_type=\"llama\",\n",
    "    # lib='avx2', for cpu use\n",
    "    gpu_layers=110,  # 110 for 7b, 130 for 13b,\n",
    "    context_length=2048,\n",
    "    reset=True,\n",
    "    threads=8,\n",
    "    top_k=20,\n",
    "    top_p=0.95,\n",
    "    max_new_tokens=1000,\n",
    "    repetition_penalty=1.1,\n",
    "    temperature=0.1,\n",
    "    stream=True,\n",
    ")"
   ]
  },
  {
   "cell_type": "code",
   "execution_count": null,
   "metadata": {
    "id": "GbTct0AVhxj7"
   },
   "outputs": [],
   "source": [
    "def prompt(query, stream=True):\n",
    "    if stream:\n",
    "        response = \"\"\n",
    "        for text in llm(query, stream=True):\n",
    "            print(text, end=\"\", flush=True)\n",
    "            response += text\n",
    "        return response\n",
    "    else:\n",
    "        return llm(query, stream=False)"
   ]
  },
  {
   "cell_type": "code",
   "execution_count": null,
   "metadata": {
    "colab": {
     "base_uri": "https://localhost:8080/"
    },
    "id": "aM1A6jfP1EDB",
    "outputId": "81afc3c9-4b54-4d72-c64a-7740bd2874de",
    "tags": []
   },
   "outputs": [],
   "source": [
    "def template(query):\n",
    "    return f\"\"\"\n",
    "### Instruction: {query}. Be succinct, and return response as a 5-point list.\n",
    "### Response:\"\"\"\n",
    "\n",
    "\n",
    "prompt(template(query=\"How can I be a more balanced human being?\"))"
   ]
  },
  {
   "cell_type": "markdown",
   "metadata": {
    "id": "NQVBY0F41xXi"
   },
   "source": [
    "## Exercise 1: Manual exploratory testing"
   ]
  },
  {
   "cell_type": "code",
   "execution_count": null,
   "metadata": {},
   "outputs": [],
   "source": [
    "RESUME_1 = \"\"\"\n",
    "Objective: Dedicated IT Developer with over 5 years of experience in full-stack\n",
    "web development, mobile application development, and cloud computing. Seeking\n",
    "to leverage my technical expertise and problem-solving skills to contribute to\n",
    "a forward-thinking team at WidgetCraft.\n",
    "\n",
    "Technical Skills:\n",
    "- Languages: Java, Python, JavaScript, C#\n",
    "- Web: HTML5, CSS3, Bootstrap, React, Angular, Node.js\n",
    "- Mobile: Android (Java, Kotlin), iOS (Swift)\n",
    "\"\"\"\n",
    "\n",
    "RESUME_2 = \"\"\"\n",
    "Jane Doe, Marketing Manager\n",
    "\n",
    "Professional Experience:\n",
    "\n",
    "Marketing Manager | Horizon Marketing Solutions | 2018 - Present\n",
    "- Spearheaded end-to-end marketing efforts for a diverse portfolio of clients,\n",
    "resulting in a 20 percent average increase in annual revenue.\n",
    "- Led a cross-functional team of 10 professionals, fostering a collaborative\n",
    "environment and achieving a 30 percent improvement in campaign efficiency.\n",
    "- Developed and executed data-driven marketing strategies, resulting in a 25\n",
    "percent boost in online conversions and a 15 percent increase in social media\n",
    "engagement.\n",
    "- Conducted in-depth market analysis, competitor assessments, and consumer\n",
    "behavior studies to identify new opportunities and optimize existing campaigns.\n",
    "- Collaborated closely with clients to align marketing strategies with their\n",
    "business goals, resulting in a 95 percent client retention rate.\n",
    "\n",
    "Skills:\n",
    "- Marketing Strategy, Brand Development, Campaign Management, Team Leadership,\n",
    "Market Research, Digital Marketing, Data Analysis, Cross-functional Collaboration\n",
    "\n",
    "\"\"\""
   ]
  },
  {
   "cell_type": "code",
   "execution_count": null,
   "metadata": {
    "colab": {
     "base_uri": "https://localhost:8080/"
    },
    "id": "l9_Xz4670toG",
    "outputId": "2bde0060-bbfa-4966-a3f9-322e61a238a4"
   },
   "outputs": [],
   "source": [
    "def extract_skills(resume):\n",
    "    return f\"\"\"\n",
    "### Instruction: Extract technical skills from this document:\n",
    "{resume}\n",
    "### Response:\"\"\"\n",
    "\n",
    "\n",
    "result = prompt(extract_skills(RESUME_1))"
   ]
  },
  {
   "cell_type": "markdown",
   "metadata": {
    "id": "nBhXFrAX2B1y"
   },
   "source": [
    "The result is human-readable, but not a very helpful data structure. Let's get the model to return JSON so we can work with it in automated tests (Exercise 2) and any other downstream components."
   ]
  },
  {
   "cell_type": "code",
   "execution_count": null,
   "metadata": {
    "colab": {
     "base_uri": "https://localhost:8080/"
    },
    "id": "G0O8F_ux74fN",
    "outputId": "86eb5591-37c3-41f6-90de-22aa1fc99d24"
   },
   "outputs": [],
   "source": [
    "def extract_json(resume):\n",
    "    return f\"\"\"\n",
    "### Instruction: Extract technical skills from this document using only\n",
    "information in the following document. Return results in valid JSON format.\n",
    "{resume}\n",
    "### Response:\n",
    "\"\"\"\n",
    "\n",
    "\n",
    "response = prompt(extract_json(RESUME_1), stream=True)"
   ]
  },
  {
   "cell_type": "markdown",
   "metadata": {
    "id": "4pLmC1g-2sNd"
   },
   "source": [
    "## Exercise 2: Automated tests. Example-based tests"
   ]
  },
  {
   "cell_type": "code",
   "execution_count": null,
   "metadata": {
    "colab": {
     "base_uri": "https://localhost:8080/"
    },
    "id": "E8jofxFIcUnj",
    "outputId": "2e429b37-bc31-4dbd-fe0a-8fffb6c50720"
   },
   "outputs": [],
   "source": [
    "import json\n",
    "\n",
    "\n",
    "def extract_json2(resume):\n",
    "    return (\n",
    "        \"\"\"\n",
    "### Instruction: Extract technical skills from this document using only\n",
    "information in the following document.\n",
    "Return results in valid JSON format.\n",
    "Final answer should be in the following format:\n",
    "\n",
    "{\n",
    "  {\"technical_skills\":\n",
    "   {\n",
    "      {\n",
    "          \"key_1\": [\"value1\", \"value2\", \"value3\" ],\n",
    "          \"key_2\": [\"value1\", \"value2\", \"value3\"]\n",
    "      }\n",
    "    }\n",
    "   }\n",
    "}\n",
    "\n",
    "Ensure that key_1, key_2, etc. are exact valid keys from user input,\n",
    "presented in snake_case\"\"\"\n",
    "        + f\"\"\"\n",
    "\n",
    "### Input: {resume}\n",
    "\n",
    "### Response:\"\"\"\n",
    "    )\n",
    "\n",
    "\n",
    "response = prompt(extract_json2(RESUME_1))"
   ]
  },
  {
   "cell_type": "code",
   "execution_count": null,
   "metadata": {
    "colab": {
     "base_uri": "https://localhost:8080/",
     "height": 266
    },
    "id": "A5oKmGD6RViN",
    "outputId": "7cd0a8b9-d684-47fe-f0e2-7e95cb0f5581"
   },
   "outputs": [],
   "source": [
    "actual_skills = json.loads(response)\n",
    "\n",
    "expected_skills = {\n",
    "    \"technical_skills\": {\n",
    "        \"languages\": [\"Java\", \"Python\", \"JavaScript\", \"C#\"],\n",
    "        \"web\": [\"HTML5\", \"CSS3\", \"Bootstrap\", \"React\", \"Angular\", \"Node.js\"],\n",
    "        \"mobile\": [\"Android (Java, Kotlin)\", \"iOS (Swift)\"],\n",
    "    }\n",
    "}\n",
    "\n",
    "print(f\"Actual:   {actual_skills}\")\n",
    "print(f\"Expected: {expected_skills}\")\n",
    "assert actual_skills == expected_skills"
   ]
  },
  {
   "cell_type": "markdown",
   "metadata": {
    "id": "Hs6dm8dARViN"
   },
   "source": [
    "The failing test in the preceding cell, though jarring, is a good thing! It helped us catch a bug: There was some information loss as some skills were not included in the result. Let's try to get this test to pass with better prompting"
   ]
  },
  {
   "cell_type": "code",
   "execution_count": null,
   "metadata": {
    "colab": {
     "base_uri": "https://localhost:8080/"
    },
    "id": "aDF0WWDCRViN",
    "outputId": "2f177711-53be-4f7d-cc68-bfca46dc35a9"
   },
   "outputs": [],
   "source": [
    "import json\n",
    "\n",
    "\n",
    "def extract_json3(resume):\n",
    "    return (\n",
    "        \"\"\"\n",
    "[INST] <<SYS>>\n",
    "You are an assistant responsible for extracting attributes from unstructured\n",
    "text and returning them as a valid JSON.\n",
    "In your response, DO NOT include any text other than the JSON response.\n",
    "Keys and values should be quoted with \"\". No trailing commas.\n",
    "\n",
    "Example: This is a resume, and I'm listing my technical skills:\n",
    "- Fruits: Apple, Banana, Coconut\n",
    "- Raw Vegetables: Lettuce, Cabbage, Zucchini, Carrots (Diced, Sliced)\n",
    "\n",
    "The response should then be in the format:\n",
    "{\n",
    "    \"technical_skills\":\n",
    "      {\n",
    "        {\n",
    "            \"fruits\": [\"Apple\", \"Banana\", \"Coconut\"],\n",
    "            \"raw_vegetables\": [\"Lettuce\", \"Cabbage\", \"Zucchini\", \"Carrots (Diced, Sliced)\"]\n",
    "        }\n",
    "    }\n",
    "}\n",
    "\n",
    "<</SYS>>\"\"\"\n",
    "        + f\"\"\"\n",
    "\n",
    "Extract technical skills from the given document using only information in\n",
    "the following document:\n",
    "\n",
    "{resume}\n",
    "\n",
    "Only include the JSON response.\n",
    "[/INST]\n",
    "\"\"\"\n",
    "    )\n",
    "\n",
    "\n",
    "response = prompt(extract_json3(RESUME_1))"
   ]
  },
  {
   "cell_type": "code",
   "execution_count": null,
   "metadata": {
    "colab": {
     "base_uri": "https://localhost:8080/"
    },
    "id": "OP4fvAInRViN",
    "outputId": "641936b6-43e2-4d24-ab45-d0e715d5866d"
   },
   "outputs": [],
   "source": [
    "actual_skills = json.loads(response)\n",
    "expected_skills = {\n",
    "    \"technical_skills\": {\n",
    "        \"languages\": [\"Java\", \"Python\", \"JavaScript\", \"C#\"],\n",
    "        \"web\": [\"HTML5\", \"CSS3\", \"Bootstrap\", \"React\", \"Angular\", \"Node.js\"],\n",
    "        \"mobile\": [\"Android (Java, Kotlin)\", \"iOS (Swift)\"],\n",
    "    }\n",
    "}\n",
    "\n",
    "print(f\"Actual:   {actual_skills}\")\n",
    "print(f\"Expected: {expected_skills}\")\n",
    "assert actual_skills == expected_skills"
   ]
  },
  {
   "cell_type": "markdown",
   "metadata": {
    "id": "YAfgNeaaaFDc"
   },
   "source": [
    "## Exercise 3: Using an LLM to evaluate itself (or another LLM)"
   ]
  },
  {
   "cell_type": "code",
   "execution_count": null,
   "metadata": {
    "colab": {
     "base_uri": "https://localhost:8080/"
    },
    "id": "F6jz22T6aIOV",
    "outputId": "5a400f31-e406-43f0-e58c-7a27f29b135f"
   },
   "outputs": [],
   "source": [
    "def summarizer(resume):\n",
    "    return f\"\"\"\n",
    "[INST]\n",
    "<<SYS>>\n",
    "You are a helpful assistant, skilled at providing succinct and accurate\n",
    "summaries of an applicant based on their resume. In your response, include only\n",
    "the summary no preamble.\n",
    "<</SYS>>\n",
    "\n",
    "Instruction: Generate a two-sentence summary of:\n",
    "\n",
    "{resume}\n",
    "\n",
    "[/INST]\n",
    "\n",
    "\"\"\"\n",
    "\n",
    "\n",
    "summary1 = prompt(summarizer(RESUME_1))"
   ]
  },
  {
   "cell_type": "code",
   "execution_count": null,
   "metadata": {
    "colab": {
     "base_uri": "https://localhost:8080/"
    },
    "id": "ycwdr0yoa91c",
    "outputId": "0dd3209d-c118-4c2c-be9f-819b8613f740"
   },
   "outputs": [],
   "source": [
    "def summary_evaluator(resume, summary):\n",
    "    return f\"\"\"\n",
    "<SYS>\n",
    "You are a strict evaluator responsible for checking if summaries are accurate\n",
    "or not.\n",
    "</SYS>\n",
    "[INST]\n",
    "<Resume>\n",
    "{resume}\n",
    "</Resume>\n",
    "\n",
    "<Summary>\n",
    "{summary}\n",
    "</Summary>\n",
    "\n",
    "Instruction: Evaluate if <Summary> is an accurate summary of <Resume>. Be critical o\n",
    "Present response in a JSON format with keys of score 1-10 and a short reason.\n",
    "[/INST]\n",
    "\"\"\"\n",
    "\n",
    "\n",
    "evaluation = prompt(summary_evaluator(RESUME_1, summary1))"
   ]
  },
  {
   "cell_type": "code",
   "execution_count": null,
   "metadata": {
    "colab": {
     "base_uri": "https://localhost:8080/"
    },
    "id": "U9rP6X6vRViO",
    "outputId": "71661716-1474-4a99-aa59-a09d768ac457"
   },
   "outputs": [],
   "source": [
    "summary_2 = prompt(summarizer(RESUME_2))\n",
    "evaluation2 = prompt(summary_evaluator(RESUME_2, summary_2))\n",
    "print(evaluation2)"
   ]
  },
  {
   "cell_type": "code",
   "execution_count": null,
   "metadata": {
    "colab": {
     "base_uri": "https://localhost:8080/"
    },
    "id": "6JOdcsnIRViO",
    "outputId": "79b2050c-8fce-44da-8eaf-49f0beb21baf"
   },
   "outputs": [],
   "source": [
    "evaluation3 = prompt(summary_evaluator(RESUME_2, \"Bob Dole is a zookeeper\"))\n",
    "print(evaluation3)"
   ]
  },
  {
   "cell_type": "markdown",
   "metadata": {},
   "source": [
    "## Exercise 4: Using behave to test LLM output"
   ]
  },
  {
   "cell_type": "code",
   "execution_count": null,
   "metadata": {},
   "outputs": [],
   "source": [
    "%%writefile features/steps/evaluation_steps.py\n",
    "from ctransformers import AutoModelForCausalLM\n",
    "import json\n",
    "import os\n",
    "\n",
    "\n",
    "def extract_json3(resume):\n",
    "    return (\n",
    "        \"\"\"\n",
    "[INST] <<SYS>>\n",
    "You are an assistant responsible for extracting attributes from unstructured\n",
    "text and returning them as a valid JSON.\n",
    "In your response, DO NOT include any text other than the JSON response.\n",
    "Keys and values should be quoted with \"\". No trailing commas.\n",
    "\n",
    "Example: This is a resume, and I'm listing my technical skills:\n",
    "- Fruits: Apple, Banana, Coconut\n",
    "- Raw Vegetables: Lettuce, Cabbage, Zucchini, Carrots (Diced, Sliced)\n",
    "\n",
    "The response should then be in the format:\n",
    "{\n",
    "    \"technical_skills\":\n",
    "      {\n",
    "        {\n",
    "            \"fruits\": [\"Apple\", \"Banana\", \"Coconut\"],\n",
    "            \"raw_vegetables\": [\"Lettuce\", \"Cabbage\", \"Zucchini\", \"Carrots (Diced, Sliced)\"]\n",
    "        }\n",
    "    }\n",
    "}\n",
    "\n",
    "<</SYS>>\"\"\"\n",
    "        + f\"\"\"\n",
    "\n",
    "Extract technical skills from the given document using only information in\n",
    "the following document:\n",
    "\n",
    "{resume}\n",
    "\n",
    "Only include the JSON response.\n",
    "[/INST]\n",
    "\"\"\"\n",
    "    )\n",
    "\n",
    "\n",
    "@given(\"I am looking for a Java developer\")\n",
    "def step_impl(context):\n",
    "    context.llm = AutoModelForCausalLM.from_pretrained(\n",
    "        \"TheBloke/Llama-2-7B-Chat-GGML\",\n",
    "        model_file=\"llama-2-7b-chat.ggmlv3.q4_0.bin\",\n",
    "        model_type=\"llama\",\n",
    "        # lib='avx2', for cpu use\n",
    "        gpu_layers=110,  # 110 for 7b, 130 for 13b,\n",
    "        context_length=2048,\n",
    "        reset=True,\n",
    "        threads=8,\n",
    "        top_k=20,\n",
    "        top_p=0.95,\n",
    "        max_new_tokens=1000,\n",
    "        repetition_penalty=1.1,\n",
    "        temperature=0.1,\n",
    "        stream=False,\n",
    "    )\n",
    "\n",
    "    context.expected_skills = {\n",
    "    \"technical_skills\": {\n",
    "        \"languages\": [\"Java\", \"Python\", \"JavaScript\", \"C#\"],\n",
    "        \"web\": [\"HTML5\", \"CSS3\", \"Bootstrap\", \"React\", \"Angular\", \"Node.js\"],\n",
    "        \"mobile\": [\"Android (Java, Kotlin)\", \"iOS (Swift)\"],\n",
    "    }\n",
    "}\n",
    "\n",
    "@when(\"I evaluate the resume of {name}\")\n",
    "def step_impl(context, name):\n",
    "    resume_file_name = name.lower().replace(\" \", \"_\")+ \".txt\"\n",
    "    resume_file_loc = os.path.join(\"features\", \"resources\", resume_file_name)\n",
    "    \n",
    "    with open(resume_file_loc, \"r\") as f:\n",
    "        resume = f.read()\n",
    "        \n",
    "    context.actual_skills = json.loads(context.llm(extract_json3(resume)))\n",
    "\n",
    "    print(context.actual_skills)\n",
    "\n",
    "@then(\"the resume needs to have the Java language\")\n",
    "def step_impl(context):\n",
    "    assert \"Java\" in context.actual_skills[\"technical_skills\"][\"languages\"]\n",
    "\n",
    "@then(\"the resume needs to have web experience\")\n",
    "def step_impl(context):\n",
    "    assert \"web\" in context.actual_skills[\"technical_skills\"].keys()\n",
    "    "
   ]
  },
  {
   "cell_type": "code",
   "execution_count": null,
   "metadata": {
    "vscode": {
     "languageId": "bat"
    }
   },
   "outputs": [],
   "source": [
    "%%writefile features/evaluate.feature\n",
    "\n",
    "Feature: showing off behave\n",
    "    Scenario: Evaluate a Java developer resumue\n",
    "        Given I am looking for a Java developer\n",
    "        When I evaluate the resume of John Doe\n",
    "        Then the resume needs to have the Java language\n",
    "        And the resume needs to have web experience"
   ]
  },
  {
   "cell_type": "code",
   "execution_count": null,
   "metadata": {},
   "outputs": [],
   "source": [
    "!behave"
   ]
  }
 ],
 "metadata": {
  "accelerator": "GPU",
  "colab": {
   "gpuType": "T4",
   "provenance": []
  },
  "kernelspec": {
   "display_name": "Python 3 (ipykernel)",
   "language": "python",
   "name": "python3"
  },
  "language_info": {
   "codemirror_mode": {
    "name": "ipython",
    "version": 3
   },
   "file_extension": ".py",
   "mimetype": "text/x-python",
   "name": "python",
   "nbconvert_exporter": "python",
   "pygments_lexer": "ipython3",
   "version": "3.11.5"
  },
  "widgets": {
   "application/vnd.jupyter.widget-state+json": {
    "1ae1beebd8f54193b08d4a5d0eec5c85": {
     "model_module": "@jupyter-widgets/controls",
     "model_module_version": "1.5.0",
     "model_name": "HTMLModel",
     "state": {
      "_dom_classes": [],
      "_model_module": "@jupyter-widgets/controls",
      "_model_module_version": "1.5.0",
      "_model_name": "HTMLModel",
      "_view_count": null,
      "_view_module": "@jupyter-widgets/controls",
      "_view_module_version": "1.5.0",
      "_view_name": "HTMLView",
      "description": "",
      "description_tooltip": null,
      "layout": "IPY_MODEL_758fde3020e042c780ae4b87350ca083",
      "placeholder": "​",
      "style": "IPY_MODEL_201f6407dabe447ab26bd9ced5a2da50",
      "value": "Fetching 1 files: 100%"
     }
    },
    "1dfcb5f6b08e414d8bbc57c04f0c50e1": {
     "model_module": "@jupyter-widgets/controls",
     "model_module_version": "1.5.0",
     "model_name": "DescriptionStyleModel",
     "state": {
      "_model_module": "@jupyter-widgets/controls",
      "_model_module_version": "1.5.0",
      "_model_name": "DescriptionStyleModel",
      "_view_count": null,
      "_view_module": "@jupyter-widgets/base",
      "_view_module_version": "1.2.0",
      "_view_name": "StyleView",
      "description_width": ""
     }
    },
    "201f6407dabe447ab26bd9ced5a2da50": {
     "model_module": "@jupyter-widgets/controls",
     "model_module_version": "1.5.0",
     "model_name": "DescriptionStyleModel",
     "state": {
      "_model_module": "@jupyter-widgets/controls",
      "_model_module_version": "1.5.0",
      "_model_name": "DescriptionStyleModel",
      "_view_count": null,
      "_view_module": "@jupyter-widgets/base",
      "_view_module_version": "1.2.0",
      "_view_name": "StyleView",
      "description_width": ""
     }
    },
    "2be3c5ffa0934b208b69d5cc83d09e45": {
     "model_module": "@jupyter-widgets/controls",
     "model_module_version": "1.5.0",
     "model_name": "ProgressStyleModel",
     "state": {
      "_model_module": "@jupyter-widgets/controls",
      "_model_module_version": "1.5.0",
      "_model_name": "ProgressStyleModel",
      "_view_count": null,
      "_view_module": "@jupyter-widgets/base",
      "_view_module_version": "1.2.0",
      "_view_name": "StyleView",
      "bar_color": null,
      "description_width": ""
     }
    },
    "33a2755be296447a87c819a5c24b5841": {
     "model_module": "@jupyter-widgets/controls",
     "model_module_version": "1.5.0",
     "model_name": "FloatProgressModel",
     "state": {
      "_dom_classes": [],
      "_model_module": "@jupyter-widgets/controls",
      "_model_module_version": "1.5.0",
      "_model_name": "FloatProgressModel",
      "_view_count": null,
      "_view_module": "@jupyter-widgets/controls",
      "_view_module_version": "1.5.0",
      "_view_name": "ProgressView",
      "bar_style": "success",
      "description": "",
      "description_tooltip": null,
      "layout": "IPY_MODEL_b231a0f884af4ce89be01ff5b569e028",
      "max": 1,
      "min": 0,
      "orientation": "horizontal",
      "style": "IPY_MODEL_a6c79dc4876a47dfb8581e88142b8621",
      "value": 1
     }
    },
    "39cbc986c106438cb6772cd87105de23": {
     "model_module": "@jupyter-widgets/controls",
     "model_module_version": "1.5.0",
     "model_name": "HTMLModel",
     "state": {
      "_dom_classes": [],
      "_model_module": "@jupyter-widgets/controls",
      "_model_module_version": "1.5.0",
      "_model_name": "HTMLModel",
      "_view_count": null,
      "_view_module": "@jupyter-widgets/controls",
      "_view_module_version": "1.5.0",
      "_view_name": "HTMLView",
      "description": "",
      "description_tooltip": null,
      "layout": "IPY_MODEL_f9efa2151b7d45a683cb071c6b19bf65",
      "placeholder": "​",
      "style": "IPY_MODEL_1dfcb5f6b08e414d8bbc57c04f0c50e1",
      "value": "Fetching 1 files: 100%"
     }
    },
    "41beaf32ea664566b61daf9736a37524": {
     "model_module": "@jupyter-widgets/base",
     "model_module_version": "1.2.0",
     "model_name": "LayoutModel",
     "state": {
      "_model_module": "@jupyter-widgets/base",
      "_model_module_version": "1.2.0",
      "_model_name": "LayoutModel",
      "_view_count": null,
      "_view_module": "@jupyter-widgets/base",
      "_view_module_version": "1.2.0",
      "_view_name": "LayoutView",
      "align_content": null,
      "align_items": null,
      "align_self": null,
      "border": null,
      "bottom": null,
      "display": null,
      "flex": null,
      "flex_flow": null,
      "grid_area": null,
      "grid_auto_columns": null,
      "grid_auto_flow": null,
      "grid_auto_rows": null,
      "grid_column": null,
      "grid_gap": null,
      "grid_row": null,
      "grid_template_areas": null,
      "grid_template_columns": null,
      "grid_template_rows": null,
      "height": null,
      "justify_content": null,
      "justify_items": null,
      "left": null,
      "margin": null,
      "max_height": null,
      "max_width": null,
      "min_height": null,
      "min_width": null,
      "object_fit": null,
      "object_position": null,
      "order": null,
      "overflow": null,
      "overflow_x": null,
      "overflow_y": null,
      "padding": null,
      "right": null,
      "top": null,
      "visibility": null,
      "width": null
     }
    },
    "45702ec8fb0147be85191fb113310b3e": {
     "model_module": "@jupyter-widgets/base",
     "model_module_version": "1.2.0",
     "model_name": "LayoutModel",
     "state": {
      "_model_module": "@jupyter-widgets/base",
      "_model_module_version": "1.2.0",
      "_model_name": "LayoutModel",
      "_view_count": null,
      "_view_module": "@jupyter-widgets/base",
      "_view_module_version": "1.2.0",
      "_view_name": "LayoutView",
      "align_content": null,
      "align_items": null,
      "align_self": null,
      "border": null,
      "bottom": null,
      "display": null,
      "flex": null,
      "flex_flow": null,
      "grid_area": null,
      "grid_auto_columns": null,
      "grid_auto_flow": null,
      "grid_auto_rows": null,
      "grid_column": null,
      "grid_gap": null,
      "grid_row": null,
      "grid_template_areas": null,
      "grid_template_columns": null,
      "grid_template_rows": null,
      "height": null,
      "justify_content": null,
      "justify_items": null,
      "left": null,
      "margin": null,
      "max_height": null,
      "max_width": null,
      "min_height": null,
      "min_width": null,
      "object_fit": null,
      "object_position": null,
      "order": null,
      "overflow": null,
      "overflow_x": null,
      "overflow_y": null,
      "padding": null,
      "right": null,
      "top": null,
      "visibility": null,
      "width": null
     }
    },
    "46c3c75ae41347249251b8752673c8a7": {
     "model_module": "@jupyter-widgets/controls",
     "model_module_version": "1.5.0",
     "model_name": "HTMLModel",
     "state": {
      "_dom_classes": [],
      "_model_module": "@jupyter-widgets/controls",
      "_model_module_version": "1.5.0",
      "_model_name": "HTMLModel",
      "_view_count": null,
      "_view_module": "@jupyter-widgets/controls",
      "_view_module_version": "1.5.0",
      "_view_name": "HTMLView",
      "description": "",
      "description_tooltip": null,
      "layout": "IPY_MODEL_c0e629fdd8cb440b9561b1a138fe3077",
      "placeholder": "​",
      "style": "IPY_MODEL_93589c02ebc245deba7ce80748f504a2",
      "value": " 1/1 [00:00&lt;00:00, 53.18it/s]"
     }
    },
    "758fde3020e042c780ae4b87350ca083": {
     "model_module": "@jupyter-widgets/base",
     "model_module_version": "1.2.0",
     "model_name": "LayoutModel",
     "state": {
      "_model_module": "@jupyter-widgets/base",
      "_model_module_version": "1.2.0",
      "_model_name": "LayoutModel",
      "_view_count": null,
      "_view_module": "@jupyter-widgets/base",
      "_view_module_version": "1.2.0",
      "_view_name": "LayoutView",
      "align_content": null,
      "align_items": null,
      "align_self": null,
      "border": null,
      "bottom": null,
      "display": null,
      "flex": null,
      "flex_flow": null,
      "grid_area": null,
      "grid_auto_columns": null,
      "grid_auto_flow": null,
      "grid_auto_rows": null,
      "grid_column": null,
      "grid_gap": null,
      "grid_row": null,
      "grid_template_areas": null,
      "grid_template_columns": null,
      "grid_template_rows": null,
      "height": null,
      "justify_content": null,
      "justify_items": null,
      "left": null,
      "margin": null,
      "max_height": null,
      "max_width": null,
      "min_height": null,
      "min_width": null,
      "object_fit": null,
      "object_position": null,
      "order": null,
      "overflow": null,
      "overflow_x": null,
      "overflow_y": null,
      "padding": null,
      "right": null,
      "top": null,
      "visibility": null,
      "width": null
     }
    },
    "80c03349e1cd46f7b1888d76cbc4466e": {
     "model_module": "@jupyter-widgets/controls",
     "model_module_version": "1.5.0",
     "model_name": "HTMLModel",
     "state": {
      "_dom_classes": [],
      "_model_module": "@jupyter-widgets/controls",
      "_model_module_version": "1.5.0",
      "_model_name": "HTMLModel",
      "_view_count": null,
      "_view_module": "@jupyter-widgets/controls",
      "_view_module_version": "1.5.0",
      "_view_name": "HTMLView",
      "description": "",
      "description_tooltip": null,
      "layout": "IPY_MODEL_45702ec8fb0147be85191fb113310b3e",
      "placeholder": "​",
      "style": "IPY_MODEL_acc3b209bb3d46278aac2c2e59e7dd5a",
      "value": " 1/1 [00:00&lt;00:00, 44.15it/s]"
     }
    },
    "93589c02ebc245deba7ce80748f504a2": {
     "model_module": "@jupyter-widgets/controls",
     "model_module_version": "1.5.0",
     "model_name": "DescriptionStyleModel",
     "state": {
      "_model_module": "@jupyter-widgets/controls",
      "_model_module_version": "1.5.0",
      "_model_name": "DescriptionStyleModel",
      "_view_count": null,
      "_view_module": "@jupyter-widgets/base",
      "_view_module_version": "1.2.0",
      "_view_name": "StyleView",
      "description_width": ""
     }
    },
    "a6c79dc4876a47dfb8581e88142b8621": {
     "model_module": "@jupyter-widgets/controls",
     "model_module_version": "1.5.0",
     "model_name": "ProgressStyleModel",
     "state": {
      "_model_module": "@jupyter-widgets/controls",
      "_model_module_version": "1.5.0",
      "_model_name": "ProgressStyleModel",
      "_view_count": null,
      "_view_module": "@jupyter-widgets/base",
      "_view_module_version": "1.2.0",
      "_view_name": "StyleView",
      "bar_color": null,
      "description_width": ""
     }
    },
    "acc3b209bb3d46278aac2c2e59e7dd5a": {
     "model_module": "@jupyter-widgets/controls",
     "model_module_version": "1.5.0",
     "model_name": "DescriptionStyleModel",
     "state": {
      "_model_module": "@jupyter-widgets/controls",
      "_model_module_version": "1.5.0",
      "_model_name": "DescriptionStyleModel",
      "_view_count": null,
      "_view_module": "@jupyter-widgets/base",
      "_view_module_version": "1.2.0",
      "_view_name": "StyleView",
      "description_width": ""
     }
    },
    "b231a0f884af4ce89be01ff5b569e028": {
     "model_module": "@jupyter-widgets/base",
     "model_module_version": "1.2.0",
     "model_name": "LayoutModel",
     "state": {
      "_model_module": "@jupyter-widgets/base",
      "_model_module_version": "1.2.0",
      "_model_name": "LayoutModel",
      "_view_count": null,
      "_view_module": "@jupyter-widgets/base",
      "_view_module_version": "1.2.0",
      "_view_name": "LayoutView",
      "align_content": null,
      "align_items": null,
      "align_self": null,
      "border": null,
      "bottom": null,
      "display": null,
      "flex": null,
      "flex_flow": null,
      "grid_area": null,
      "grid_auto_columns": null,
      "grid_auto_flow": null,
      "grid_auto_rows": null,
      "grid_column": null,
      "grid_gap": null,
      "grid_row": null,
      "grid_template_areas": null,
      "grid_template_columns": null,
      "grid_template_rows": null,
      "height": null,
      "justify_content": null,
      "justify_items": null,
      "left": null,
      "margin": null,
      "max_height": null,
      "max_width": null,
      "min_height": null,
      "min_width": null,
      "object_fit": null,
      "object_position": null,
      "order": null,
      "overflow": null,
      "overflow_x": null,
      "overflow_y": null,
      "padding": null,
      "right": null,
      "top": null,
      "visibility": null,
      "width": null
     }
    },
    "c0e629fdd8cb440b9561b1a138fe3077": {
     "model_module": "@jupyter-widgets/base",
     "model_module_version": "1.2.0",
     "model_name": "LayoutModel",
     "state": {
      "_model_module": "@jupyter-widgets/base",
      "_model_module_version": "1.2.0",
      "_model_name": "LayoutModel",
      "_view_count": null,
      "_view_module": "@jupyter-widgets/base",
      "_view_module_version": "1.2.0",
      "_view_name": "LayoutView",
      "align_content": null,
      "align_items": null,
      "align_self": null,
      "border": null,
      "bottom": null,
      "display": null,
      "flex": null,
      "flex_flow": null,
      "grid_area": null,
      "grid_auto_columns": null,
      "grid_auto_flow": null,
      "grid_auto_rows": null,
      "grid_column": null,
      "grid_gap": null,
      "grid_row": null,
      "grid_template_areas": null,
      "grid_template_columns": null,
      "grid_template_rows": null,
      "height": null,
      "justify_content": null,
      "justify_items": null,
      "left": null,
      "margin": null,
      "max_height": null,
      "max_width": null,
      "min_height": null,
      "min_width": null,
      "object_fit": null,
      "object_position": null,
      "order": null,
      "overflow": null,
      "overflow_x": null,
      "overflow_y": null,
      "padding": null,
      "right": null,
      "top": null,
      "visibility": null,
      "width": null
     }
    },
    "c62b01d2c8aa48db92f40a10ce1301d3": {
     "model_module": "@jupyter-widgets/controls",
     "model_module_version": "1.5.0",
     "model_name": "FloatProgressModel",
     "state": {
      "_dom_classes": [],
      "_model_module": "@jupyter-widgets/controls",
      "_model_module_version": "1.5.0",
      "_model_name": "FloatProgressModel",
      "_view_count": null,
      "_view_module": "@jupyter-widgets/controls",
      "_view_module_version": "1.5.0",
      "_view_name": "ProgressView",
      "bar_style": "success",
      "description": "",
      "description_tooltip": null,
      "layout": "IPY_MODEL_41beaf32ea664566b61daf9736a37524",
      "max": 1,
      "min": 0,
      "orientation": "horizontal",
      "style": "IPY_MODEL_2be3c5ffa0934b208b69d5cc83d09e45",
      "value": 1
     }
    },
    "e88c77cd123f4d9b99163b749b364afc": {
     "model_module": "@jupyter-widgets/controls",
     "model_module_version": "1.5.0",
     "model_name": "HBoxModel",
     "state": {
      "_dom_classes": [],
      "_model_module": "@jupyter-widgets/controls",
      "_model_module_version": "1.5.0",
      "_model_name": "HBoxModel",
      "_view_count": null,
      "_view_module": "@jupyter-widgets/controls",
      "_view_module_version": "1.5.0",
      "_view_name": "HBoxView",
      "box_style": "",
      "children": [
       "IPY_MODEL_39cbc986c106438cb6772cd87105de23",
       "IPY_MODEL_33a2755be296447a87c819a5c24b5841",
       "IPY_MODEL_80c03349e1cd46f7b1888d76cbc4466e"
      ],
      "layout": "IPY_MODEL_f2cd65eb4c684891a652f47874e29ff5"
     }
    },
    "e917645a4e4d4b1c8ea27ff6404c2340": {
     "model_module": "@jupyter-widgets/controls",
     "model_module_version": "1.5.0",
     "model_name": "HBoxModel",
     "state": {
      "_dom_classes": [],
      "_model_module": "@jupyter-widgets/controls",
      "_model_module_version": "1.5.0",
      "_model_name": "HBoxModel",
      "_view_count": null,
      "_view_module": "@jupyter-widgets/controls",
      "_view_module_version": "1.5.0",
      "_view_name": "HBoxView",
      "box_style": "",
      "children": [
       "IPY_MODEL_1ae1beebd8f54193b08d4a5d0eec5c85",
       "IPY_MODEL_c62b01d2c8aa48db92f40a10ce1301d3",
       "IPY_MODEL_46c3c75ae41347249251b8752673c8a7"
      ],
      "layout": "IPY_MODEL_fb100cca2c644048aeaea9a52bb5cc71"
     }
    },
    "f2cd65eb4c684891a652f47874e29ff5": {
     "model_module": "@jupyter-widgets/base",
     "model_module_version": "1.2.0",
     "model_name": "LayoutModel",
     "state": {
      "_model_module": "@jupyter-widgets/base",
      "_model_module_version": "1.2.0",
      "_model_name": "LayoutModel",
      "_view_count": null,
      "_view_module": "@jupyter-widgets/base",
      "_view_module_version": "1.2.0",
      "_view_name": "LayoutView",
      "align_content": null,
      "align_items": null,
      "align_self": null,
      "border": null,
      "bottom": null,
      "display": null,
      "flex": null,
      "flex_flow": null,
      "grid_area": null,
      "grid_auto_columns": null,
      "grid_auto_flow": null,
      "grid_auto_rows": null,
      "grid_column": null,
      "grid_gap": null,
      "grid_row": null,
      "grid_template_areas": null,
      "grid_template_columns": null,
      "grid_template_rows": null,
      "height": null,
      "justify_content": null,
      "justify_items": null,
      "left": null,
      "margin": null,
      "max_height": null,
      "max_width": null,
      "min_height": null,
      "min_width": null,
      "object_fit": null,
      "object_position": null,
      "order": null,
      "overflow": null,
      "overflow_x": null,
      "overflow_y": null,
      "padding": null,
      "right": null,
      "top": null,
      "visibility": null,
      "width": null
     }
    },
    "f9efa2151b7d45a683cb071c6b19bf65": {
     "model_module": "@jupyter-widgets/base",
     "model_module_version": "1.2.0",
     "model_name": "LayoutModel",
     "state": {
      "_model_module": "@jupyter-widgets/base",
      "_model_module_version": "1.2.0",
      "_model_name": "LayoutModel",
      "_view_count": null,
      "_view_module": "@jupyter-widgets/base",
      "_view_module_version": "1.2.0",
      "_view_name": "LayoutView",
      "align_content": null,
      "align_items": null,
      "align_self": null,
      "border": null,
      "bottom": null,
      "display": null,
      "flex": null,
      "flex_flow": null,
      "grid_area": null,
      "grid_auto_columns": null,
      "grid_auto_flow": null,
      "grid_auto_rows": null,
      "grid_column": null,
      "grid_gap": null,
      "grid_row": null,
      "grid_template_areas": null,
      "grid_template_columns": null,
      "grid_template_rows": null,
      "height": null,
      "justify_content": null,
      "justify_items": null,
      "left": null,
      "margin": null,
      "max_height": null,
      "max_width": null,
      "min_height": null,
      "min_width": null,
      "object_fit": null,
      "object_position": null,
      "order": null,
      "overflow": null,
      "overflow_x": null,
      "overflow_y": null,
      "padding": null,
      "right": null,
      "top": null,
      "visibility": null,
      "width": null
     }
    },
    "fb100cca2c644048aeaea9a52bb5cc71": {
     "model_module": "@jupyter-widgets/base",
     "model_module_version": "1.2.0",
     "model_name": "LayoutModel",
     "state": {
      "_model_module": "@jupyter-widgets/base",
      "_model_module_version": "1.2.0",
      "_model_name": "LayoutModel",
      "_view_count": null,
      "_view_module": "@jupyter-widgets/base",
      "_view_module_version": "1.2.0",
      "_view_name": "LayoutView",
      "align_content": null,
      "align_items": null,
      "align_self": null,
      "border": null,
      "bottom": null,
      "display": null,
      "flex": null,
      "flex_flow": null,
      "grid_area": null,
      "grid_auto_columns": null,
      "grid_auto_flow": null,
      "grid_auto_rows": null,
      "grid_column": null,
      "grid_gap": null,
      "grid_row": null,
      "grid_template_areas": null,
      "grid_template_columns": null,
      "grid_template_rows": null,
      "height": null,
      "justify_content": null,
      "justify_items": null,
      "left": null,
      "margin": null,
      "max_height": null,
      "max_width": null,
      "min_height": null,
      "min_width": null,
      "object_fit": null,
      "object_position": null,
      "order": null,
      "overflow": null,
      "overflow_x": null,
      "overflow_y": null,
      "padding": null,
      "right": null,
      "top": null,
      "visibility": null,
      "width": null
     }
    }
   }
  }
 },
 "nbformat": 4,
 "nbformat_minor": 4
}
