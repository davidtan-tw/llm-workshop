{
 "cells": [
  {
   "cell_type": "markdown",
   "metadata": {
    "id": "jme5Rb5tLs2C"
   },
   "source": [
    "## Setup"
   ]
  },
  {
   "cell_type": "markdown",
   "metadata": {},
   "source": [
    "If you do not have access to a nvidia GPU, install dependencies here:"
   ]
  },
  {
   "cell_type": "code",
   "execution_count": null,
   "metadata": {},
   "outputs": [],
   "source": [
    "!pip install ctransformers"
   ]
  },
  {
   "cell_type": "markdown",
   "metadata": {},
   "source": [
    "Run this in google colab/sagemaker studio or if you have otherwise access to a GPU:"
   ]
  },
  {
   "cell_type": "code",
   "execution_count": null,
   "metadata": {
    "colab": {
     "base_uri": "https://localhost:8080/"
    },
    "id": "1fv9mLnUcWAV",
    "outputId": "099d0bac-9006-4d03-f055-bc00844c1062"
   },
   "outputs": [],
   "source": [
    "!pip uninstall ctransformers -y\n",
    "!CT_CUBLAS=1 pip install ctransformers --no-binary ctransformers"
   ]
  },
  {
   "cell_type": "markdown",
   "metadata": {},
   "source": [
    "Run this on apple silicon (M1, M2):"
   ]
  },
  {
   "cell_type": "code",
   "execution_count": 1,
   "metadata": {},
   "outputs": [
    {
     "name": "stdout",
     "output_type": "stream",
     "text": [
      "Found existing installation: ctransformers 0.2.27\n",
      "Uninstalling ctransformers-0.2.27:\n",
      "  Successfully uninstalled ctransformers-0.2.27\n",
      "Collecting ctransformers\n",
      "  Using cached ctransformers-0.2.27-cp311-cp311-macosx_14_0_arm64.whl\n",
      "Requirement already satisfied: huggingface-hub in ./.venv/lib/python3.11/site-packages (from ctransformers) (0.18.0)\n",
      "Requirement already satisfied: py-cpuinfo<10.0.0,>=9.0.0 in ./.venv/lib/python3.11/site-packages (from ctransformers) (9.0.0)\n",
      "Requirement already satisfied: filelock in ./.venv/lib/python3.11/site-packages (from huggingface-hub->ctransformers) (3.12.4)\n",
      "Requirement already satisfied: fsspec>=2023.5.0 in ./.venv/lib/python3.11/site-packages (from huggingface-hub->ctransformers) (2023.9.2)\n",
      "Requirement already satisfied: requests in ./.venv/lib/python3.11/site-packages (from huggingface-hub->ctransformers) (2.31.0)\n",
      "Requirement already satisfied: tqdm>=4.42.1 in ./.venv/lib/python3.11/site-packages (from huggingface-hub->ctransformers) (4.66.1)\n",
      "Requirement already satisfied: pyyaml>=5.1 in ./.venv/lib/python3.11/site-packages (from huggingface-hub->ctransformers) (6.0.1)\n",
      "Requirement already satisfied: typing-extensions>=3.7.4.3 in ./.venv/lib/python3.11/site-packages (from huggingface-hub->ctransformers) (4.8.0)\n",
      "Requirement already satisfied: packaging>=20.9 in ./.venv/lib/python3.11/site-packages (from huggingface-hub->ctransformers) (23.2)\n",
      "Requirement already satisfied: charset-normalizer<4,>=2 in ./.venv/lib/python3.11/site-packages (from requests->huggingface-hub->ctransformers) (3.3.0)\n",
      "Requirement already satisfied: idna<4,>=2.5 in ./.venv/lib/python3.11/site-packages (from requests->huggingface-hub->ctransformers) (3.4)\n",
      "Requirement already satisfied: urllib3<3,>=1.21.1 in ./.venv/lib/python3.11/site-packages (from requests->huggingface-hub->ctransformers) (2.0.6)\n",
      "Requirement already satisfied: certifi>=2017.4.17 in ./.venv/lib/python3.11/site-packages (from requests->huggingface-hub->ctransformers) (2023.7.22)\n",
      "Installing collected packages: ctransformers\n",
      "Successfully installed ctransformers-0.2.27\n",
      "\n",
      "\u001b[1m[\u001b[0m\u001b[34;49mnotice\u001b[0m\u001b[1;39;49m]\u001b[0m\u001b[39;49m A new release of pip is available: \u001b[0m\u001b[31;49m23.1\u001b[0m\u001b[39;49m -> \u001b[0m\u001b[32;49m23.3\u001b[0m\n",
      "\u001b[1m[\u001b[0m\u001b[34;49mnotice\u001b[0m\u001b[1;39;49m]\u001b[0m\u001b[39;49m To update, run: \u001b[0m\u001b[32;49mpip install --upgrade pip\u001b[0m\n"
     ]
    }
   ],
   "source": [
    "!pip uninstall ctransformers -y\n",
    "!CT_METAL=1 pip install ctransformers --no-binary ctransformers"
   ]
  },
  {
   "cell_type": "markdown",
   "metadata": {},
   "source": [
    "## Smoke test"
   ]
  },
  {
   "cell_type": "markdown",
   "metadata": {
    "id": "epHSyIrG02LS"
   },
   "source": [
    "**Smoke test**: Check that the model is loaded successfully and generates good-quality responses"
   ]
  },
  {
   "cell_type": "code",
   "execution_count": 11,
   "metadata": {
    "colab": {
     "base_uri": "https://localhost:8080/",
     "height": 81,
     "referenced_widgets": [
      "e88c77cd123f4d9b99163b749b364afc",
      "39cbc986c106438cb6772cd87105de23",
      "33a2755be296447a87c819a5c24b5841",
      "80c03349e1cd46f7b1888d76cbc4466e",
      "f2cd65eb4c684891a652f47874e29ff5",
      "f9efa2151b7d45a683cb071c6b19bf65",
      "1dfcb5f6b08e414d8bbc57c04f0c50e1",
      "b231a0f884af4ce89be01ff5b569e028",
      "a6c79dc4876a47dfb8581e88142b8621",
      "45702ec8fb0147be85191fb113310b3e",
      "acc3b209bb3d46278aac2c2e59e7dd5a",
      "e917645a4e4d4b1c8ea27ff6404c2340",
      "1ae1beebd8f54193b08d4a5d0eec5c85",
      "c62b01d2c8aa48db92f40a10ce1301d3",
      "46c3c75ae41347249251b8752673c8a7",
      "fb100cca2c644048aeaea9a52bb5cc71",
      "758fde3020e042c780ae4b87350ca083",
      "201f6407dabe447ab26bd9ced5a2da50",
      "41beaf32ea664566b61daf9736a37524",
      "2be3c5ffa0934b208b69d5cc83d09e45",
      "c0e629fdd8cb440b9561b1a138fe3077",
      "93589c02ebc245deba7ce80748f504a2"
     ]
    },
    "id": "PyjLC0wVc3Q3",
    "outputId": "3fc47f0f-471d-47e2-8088-e227be96ac80"
   },
   "outputs": [
    {
     "data": {
      "application/vnd.jupyter.widget-view+json": {
       "model_id": "1f75e92aee6b4129bc8a98bebcbad362",
       "version_major": 2,
       "version_minor": 0
      },
      "text/plain": [
       "Fetching 1 files:   0%|          | 0/1 [00:00<?, ?it/s]"
      ]
     },
     "metadata": {},
     "output_type": "display_data"
    },
    {
     "data": {
      "application/vnd.jupyter.widget-view+json": {
       "model_id": "2b184a3ccda84abca75fb77924a130bd",
       "version_major": 2,
       "version_minor": 0
      },
      "text/plain": [
       "Fetching 1 files:   0%|          | 0/1 [00:00<?, ?it/s]"
      ]
     },
     "metadata": {},
     "output_type": "display_data"
    }
   ],
   "source": [
    "\n",
    "from ctransformers import AutoModelForCausalLM\n",
    "\n",
    "llm = AutoModelForCausalLM.from_pretrained(\n",
    "      'TheBloke/Llama-2-7B-Chat-GGML',\n",
    "      model_file='llama-2-7b-chat.ggmlv3.q4_0.bin',\n",
    "      model_type=\"llama\",\n",
    "      #lib='avx2', for cpu use\n",
    "      gpu_layers=110, #110 for 7b, 130 for 13b,\n",
    "      context_length=8196,\n",
    "      reset=True,\n",
    "      threads=8,\n",
    "      top_k=20,\n",
    "      top_p=0.95,\n",
    "      max_new_tokens=1000,\n",
    "      repetition_penalty=1.1,\n",
    "      temperature=0.0,\n",
    "      stream=True,\n",
    "      )"
   ]
  },
  {
   "cell_type": "code",
   "execution_count": 3,
   "metadata": {
    "id": "GbTct0AVhxj7"
   },
   "outputs": [],
   "source": [
    "def prompt(query, stream=True):\n",
    "  if stream:\n",
    "    response = \"\"\n",
    "    for text in llm(query, stream=True):\n",
    "      print(text, end=\"\", flush=True)\n",
    "      response += text\n",
    "    return response\n",
    "  else:\n",
    "    return llm(query, stream=False)\n"
   ]
  },
  {
   "cell_type": "code",
   "execution_count": 4,
   "metadata": {
    "colab": {
     "base_uri": "https://localhost:8080/"
    },
    "id": "aM1A6jfP1EDB",
    "outputId": "81afc3c9-4b54-4d72-c64a-7740bd2874de",
    "tags": []
   },
   "outputs": [
    {
     "name": "stdout",
     "output_type": "stream",
     "text": [
      "\n",
      "\n",
      "To be a more balanced human being, focus on the following areas:\n",
      "\n",
      "1. **Physical Health**: Engage in regular exercise, eat a balanced diet, and get enough sleep to maintain your physical well-being. Exercise can help reduce stress, improve mood, and boost energy levels.\n",
      "2. **Mental Health**: Practice mindfulness, meditation, or deep breathing exercises to manage stress and anxiety. These techniques can help you stay present and focused, leading to a more balanced mental state.\n",
      "3. **Social Connections**: Nurture your relationships with family, friends, and colleagues. Invest in people who support and uplift you, and make time for social activities that bring joy and fulfillment.\n",
      "4. **Personal Growth**: Engage in lifelong learning by reading, taking courses, or attending workshops. Expand your knowledge and skills to stay curious and engaged with the world around you.\n",
      "5. **Self-Care**: Prioritize activities that bring you joy and relaxation, such as hobbies, creative pursuits, or spending time in nature. Make time for self-care to recharge and refuel your energy reserves.\n",
      "\n",
      "By focusing on these areas, you can cultivate a more balanced and fulfilling life. Remember, balance is an ongoing process, so be patient and kind to yourself as you work towards achieving it."
     ]
    },
    {
     "data": {
      "text/plain": [
       "'\\n\\nTo be a more balanced human being, focus on the following areas:\\n\\n1. **Physical Health**: Engage in regular exercise, eat a balanced diet, and get enough sleep to maintain your physical well-being. Exercise can help reduce stress, improve mood, and boost energy levels.\\n2. **Mental Health**: Practice mindfulness, meditation, or deep breathing exercises to manage stress and anxiety. These techniques can help you stay present and focused, leading to a more balanced mental state.\\n3. **Social Connections**: Nurture your relationships with family, friends, and colleagues. Invest in people who support and uplift you, and make time for social activities that bring joy and fulfillment.\\n4. **Personal Growth**: Engage in lifelong learning by reading, taking courses, or attending workshops. Expand your knowledge and skills to stay curious and engaged with the world around you.\\n5. **Self-Care**: Prioritize activities that bring you joy and relaxation, such as hobbies, creative pursuits, or spending time in nature. Make time for self-care to recharge and refuel your energy reserves.\\n\\nBy focusing on these areas, you can cultivate a more balanced and fulfilling life. Remember, balance is an ongoing process, so be patient and kind to yourself as you work towards achieving it.'"
      ]
     },
     "execution_count": 4,
     "metadata": {},
     "output_type": "execute_result"
    }
   ],
   "source": [
    "def template(query): return f\"\"\"\n",
    "### Instruction: {query}. Be succinct, and return response as a 5-point list.\n",
    "### Response:\"\"\"\n",
    "\n",
    "prompt(template(query=\"How can I be a more balanced human being?\"))"
   ]
  },
  {
   "cell_type": "markdown",
   "metadata": {
    "id": "NQVBY0F41xXi"
   },
   "source": [
    "## Exercise 1: Manual exploratory testing"
   ]
  },
  {
   "cell_type": "code",
   "execution_count": 38,
   "metadata": {},
   "outputs": [],
   "source": [
    "RESUME_1 = \"\"\"\n",
    "Objective: Dedicated IT Developer with over 5 years of experience in full-stack\n",
    "web development, mobile application development, and cloud computing. Seeking\n",
    "to leverage my technical expertise and problem-solving skills to contribute to\n",
    "a forward-thinking team at WidgetCraft.\n",
    "\n",
    "Technical Skills:\n",
    "- Languages: Java, Python, JavaScript, C#\n",
    "- Web: HTML5, CSS3, Bootstrap, React, Angular, Node.js\n",
    "- Mobile: Android (Java, Kotlin), iOS (Swift)\n",
    "\"\"\"\n",
    "\n",
    "RESUME_2 = \"\"\"\n",
    "Jane Doe, Marketing Manager\n",
    "\n",
    "Professional Experience:\n",
    "\n",
    "Marketing Manager | Horizon Marketing Solutions | 2018 - Present\n",
    "- Spearheaded end-to-end marketing efforts for a diverse portfolio of clients,\n",
    "resulting in a 20 percent average increase in annual revenue.\n",
    "- Led a cross-functional team of 10 professionals, fostering a collaborative\n",
    "environment and achieving a 30 percent improvement in campaign efficiency.\n",
    "- Developed and executed data-driven marketing strategies, resulting in a 25\n",
    "percent boost in online conversions and a 15 percent increase in social media\n",
    "engagement.\n",
    "- Conducted in-depth market analysis, competitor assessments, and consumer\n",
    "behavior studies to identify new opportunities and optimize existing campaigns.\n",
    "- Collaborated closely with clients to align marketing strategies with their\n",
    "business goals, resulting in a 95 percent client retention rate.\n",
    "\n",
    "Skills:\n",
    "- Marketing Strategy, Brand Development, Campaign Management, Team Leadership,\n",
    "Market Research, Digital Marketing, Data Analysis, Cross-functional Collaboration\n",
    "\n",
    "\"\"\""
   ]
  },
  {
   "cell_type": "code",
   "execution_count": 39,
   "metadata": {
    "colab": {
     "base_uri": "https://localhost:8080/"
    },
    "id": "l9_Xz4670toG",
    "outputId": "2bde0060-bbfa-4966-a3f9-322e61a238a4"
   },
   "outputs": [
    {
     "name": "stdout",
     "output_type": "stream",
     "text": [
      " Sure, here are the technical skills listed in the job description:\n",
      "\n",
      "1. Full-stack web development\n",
      "2. Mobile application development\n",
      "3. Cloud computing\n",
      "4. Languages:\n",
      "\t* Java\n",
      "\t* Python\n",
      "\t* JavaScript\n",
      "\t* C#\n",
      "5. Web technologies:\n",
      "\t* HTML5\n",
      "\t* CSS3\n",
      "\t* Bootstrap\n",
      "\t* React\n",
      "\t* Angular\n",
      "\t* Node.js\n",
      "6. Mobile app development platforms:\n",
      "\t* Android (using Java and Kotlin)\n",
      "\t* iOS (using Swift)\n",
      "\n",
      "### Note: Some of the technical skills mentioned in the job description are mentioned only briefly or implicitly, such as \"mobile application development\" and \"cloud computing\". Therefore, they are not included in the list above."
     ]
    },
    {
     "data": {
      "text/plain": [
       "' Sure, here are the technical skills listed in the job description:\\n\\n1. Full-stack web development\\n2. Mobile application development\\n3. Cloud computing\\n4. Languages:\\n\\t* Java\\n\\t* Python\\n\\t* JavaScript\\n\\t* C#\\n5. Web technologies:\\n\\t* HTML5\\n\\t* CSS3\\n\\t* Bootstrap\\n\\t* React\\n\\t* Angular\\n\\t* Node.js\\n6. Mobile app development platforms:\\n\\t* Android (using Java and Kotlin)\\n\\t* iOS (using Swift)\\n\\n### Note: Some of the technical skills mentioned in the job description are mentioned only briefly or implicitly, such as \"mobile application development\" and \"cloud computing\". Therefore, they are not included in the list above.'"
      ]
     },
     "execution_count": 39,
     "metadata": {},
     "output_type": "execute_result"
    }
   ],
   "source": [
    "def extract_skills(resume): return f\"\"\"\n",
    "### Instruction: Extract technical skills from this document:\n",
    "{resume}\n",
    "### Response:\"\"\"\n",
    "\n",
    "prompt(extract_skills(RESUME_1))"
   ]
  },
  {
   "cell_type": "markdown",
   "metadata": {
    "id": "nBhXFrAX2B1y"
   },
   "source": [
    "The result is human-readable, but not a very helpful data structure. Let's get the model to return JSON so we can work with it in automated tests (Exercise 2) and any other downstream components."
   ]
  },
  {
   "cell_type": "code",
   "execution_count": 40,
   "metadata": {
    "colab": {
     "base_uri": "https://localhost:8080/"
    },
    "id": "G0O8F_ux74fN",
    "outputId": "86eb5591-37c3-41f6-90de-22aa1fc99d24"
   },
   "outputs": [
    {
     "name": "stdout",
     "output_type": "stream",
     "text": [
      "{\n",
      "\"Java\": \"Developer\",\n",
      "\"Python\": \"Developer\",\n",
      "\"JavaScript\": \"Developer\",\n",
      "\"C#\": \"Developer\",\n",
      "\"HTML5\": \"Front-end developer\",\n",
      "\"CSS3\": \"Design Patterns & Responsive Web Development\",\n",
      "\"Bootstrap\": \" front-end web framework\",\n",
      "\"React\": \"JavaScript Library for building User Interfaces\",\n",
      "\"Angular\": \"Micro front-end frameworks, front-end JavaScript development.\",\n",
      "\"Node.js\": \"Server Side programming using V8\"\n",
      "}\n",
      "\n",
      "Explanation: \n",
      "I've parsed the given text using information inside, and grouped it with appropriate JSON structure, with `Java`: Developer`,`Python`: Developer etc to be repeated many times with respective fields for each technology and with suitable descriptors of web frameworks in this example`. Note that Node.js has no suitable descriptor because there isn't enough context for such an association"
     ]
    }
   ],
   "source": [
    "def extract_json(resume): return f\"\"\"\n",
    "### Instruction: Extract technical skills from this document using only\n",
    "information in the following document. Return results in valid JSON format.\n",
    "{resume}\n",
    "### Response:\n",
    "\"\"\"\n",
    "\n",
    "response = prompt(extract_json(RESUME_1), stream=True)"
   ]
  },
  {
   "cell_type": "markdown",
   "metadata": {
    "id": "4pLmC1g-2sNd"
   },
   "source": [
    "## Exercise 2: Automated tests. Example-based tests"
   ]
  },
  {
   "cell_type": "code",
   "execution_count": 12,
   "metadata": {
    "colab": {
     "base_uri": "https://localhost:8080/"
    },
    "id": "E8jofxFIcUnj",
    "outputId": "2e429b37-bc31-4dbd-fe0a-8fffb6c50720"
   },
   "outputs": [
    {
     "name": "stdout",
     "output_type": "stream",
     "text": [
      "\n",
      "\n",
      "{\n",
      "  \"technical_skills\": {\n",
      "    \"key_1\": [\"java\", \"python\"],\n",
      "    \"key_2\": [\"webdev\", \"frontenddev\", \"responsiveDesign\"],\n",
      "    \"key_3\": [\"mobiledev\", \"iodevicetips\", \"sdkplatforms\"],\n",
      "    \"key_4\": [\"cloudComputing\", \"amazonWebServices\", \"cloudHosting\"]\n",
      "  }\n",
      "}\n",
      "\n",
      "Expected answer format is JSON and includes key: value pairs representing technical skills with appropriate naming convention,\n",
      "specificity (by exact programming language), accuracy. \n",
      "Ensure each entry represents an existing field/label provided by resume section under \"Technical Skills\" area\n",
      "in original format presented (including formatting and separating).  \n",
      "(no requirement for sorting, only direct JSON-ifiable format translation.)\n",
      "The objective of the provided output format is that in an AI evaluation (job interviewer etc.) we will assess and utilize as information your offered solution/technical details within that precise requested schema from given Resume sections"
     ]
    }
   ],
   "source": [
    "import json\n",
    "\n",
    "def extract_json2(resume): return \"\"\"\n",
    "### Instruction: Extract technical skills from this document using only\n",
    "information in the following document.\n",
    "Return results in valid JSON format.\n",
    "Final answer should be in the following format:\n",
    "\n",
    "{\n",
    "  {\"technical_skills\":\n",
    "   {\n",
    "      {\n",
    "          \"key_1\": [\"value1\", \"value2\", \"value3\" ],\n",
    "          \"key_2\": [\"value1\", \"value2\", \"value3\"]\n",
    "      }\n",
    "    }\n",
    "   }\n",
    "}\n",
    "\n",
    "Ensure that key_1, key_2, etc. are exact valid keys from user input,\n",
    "presented in snake_case\"\"\" + f\"\"\"\n",
    "\n",
    "### Input: {resume}\n",
    "\n",
    "### Response:\"\"\"\n",
    "\n",
    "response = prompt(extract_json2(RESUME_1))"
   ]
  },
  {
   "cell_type": "code",
   "execution_count": 41,
   "metadata": {
    "colab": {
     "base_uri": "https://localhost:8080/",
     "height": 266
    },
    "id": "A5oKmGD6RViN",
    "outputId": "7cd0a8b9-d684-47fe-f0e2-7e95cb0f5581"
   },
   "outputs": [
    {
     "ename": "JSONDecodeError",
     "evalue": "Extra data: line 14 column 1 (char 406)",
     "output_type": "error",
     "traceback": [
      "\u001b[0;31m---------------------------------------------------------------------------\u001b[0m",
      "\u001b[0;31mJSONDecodeError\u001b[0m                           Traceback (most recent call last)",
      "\u001b[1;32m/Users/oege/projects/llm-workshop/llmops_and_crafts.ipynb Cell 20\u001b[0m line \u001b[0;36m1\n\u001b[0;32m----> <a href='vscode-notebook-cell:/Users/oege/projects/llm-workshop/llmops_and_crafts.ipynb#X20sZmlsZQ%3D%3D?line=0'>1</a>\u001b[0m actual_skills \u001b[39m=\u001b[39m json\u001b[39m.\u001b[39;49mloads(response)\n\u001b[1;32m      <a href='vscode-notebook-cell:/Users/oege/projects/llm-workshop/llmops_and_crafts.ipynb#X20sZmlsZQ%3D%3D?line=2'>3</a>\u001b[0m expected_skills \u001b[39m=\u001b[39m {\n\u001b[1;32m      <a href='vscode-notebook-cell:/Users/oege/projects/llm-workshop/llmops_and_crafts.ipynb#X20sZmlsZQ%3D%3D?line=3'>4</a>\u001b[0m     \u001b[39m\"\u001b[39m\u001b[39mtechnical_skills\u001b[39m\u001b[39m\"\u001b[39m: {\n\u001b[1;32m      <a href='vscode-notebook-cell:/Users/oege/projects/llm-workshop/llmops_and_crafts.ipynb#X20sZmlsZQ%3D%3D?line=4'>5</a>\u001b[0m         \u001b[39m\"\u001b[39m\u001b[39mlanguages\u001b[39m\u001b[39m\"\u001b[39m: [\u001b[39m\"\u001b[39m\u001b[39mJava\u001b[39m\u001b[39m\"\u001b[39m, \u001b[39m\"\u001b[39m\u001b[39mPython\u001b[39m\u001b[39m\"\u001b[39m, \u001b[39m\"\u001b[39m\u001b[39mJavaScript\u001b[39m\u001b[39m\"\u001b[39m, \u001b[39m\"\u001b[39m\u001b[39mC#\u001b[39m\u001b[39m\"\u001b[39m],\n\u001b[0;32m   (...)\u001b[0m\n\u001b[1;32m      <a href='vscode-notebook-cell:/Users/oege/projects/llm-workshop/llmops_and_crafts.ipynb#X20sZmlsZQ%3D%3D?line=7'>8</a>\u001b[0m     }\n\u001b[1;32m      <a href='vscode-notebook-cell:/Users/oege/projects/llm-workshop/llmops_and_crafts.ipynb#X20sZmlsZQ%3D%3D?line=8'>9</a>\u001b[0m }\n\u001b[1;32m     <a href='vscode-notebook-cell:/Users/oege/projects/llm-workshop/llmops_and_crafts.ipynb#X20sZmlsZQ%3D%3D?line=10'>11</a>\u001b[0m \u001b[39mprint\u001b[39m(\u001b[39mf\u001b[39m\u001b[39m\"\u001b[39m\u001b[39mActual:   \u001b[39m\u001b[39m{\u001b[39;00mactual_skills\u001b[39m}\u001b[39;00m\u001b[39m\"\u001b[39m)\n",
      "File \u001b[0;32m~/.pyenv/versions/3.11.2/lib/python3.11/json/__init__.py:346\u001b[0m, in \u001b[0;36mloads\u001b[0;34m(s, cls, object_hook, parse_float, parse_int, parse_constant, object_pairs_hook, **kw)\u001b[0m\n\u001b[1;32m    341\u001b[0m     s \u001b[39m=\u001b[39m s\u001b[39m.\u001b[39mdecode(detect_encoding(s), \u001b[39m'\u001b[39m\u001b[39msurrogatepass\u001b[39m\u001b[39m'\u001b[39m)\n\u001b[1;32m    343\u001b[0m \u001b[39mif\u001b[39;00m (\u001b[39mcls\u001b[39m \u001b[39mis\u001b[39;00m \u001b[39mNone\u001b[39;00m \u001b[39mand\u001b[39;00m object_hook \u001b[39mis\u001b[39;00m \u001b[39mNone\u001b[39;00m \u001b[39mand\u001b[39;00m\n\u001b[1;32m    344\u001b[0m         parse_int \u001b[39mis\u001b[39;00m \u001b[39mNone\u001b[39;00m \u001b[39mand\u001b[39;00m parse_float \u001b[39mis\u001b[39;00m \u001b[39mNone\u001b[39;00m \u001b[39mand\u001b[39;00m\n\u001b[1;32m    345\u001b[0m         parse_constant \u001b[39mis\u001b[39;00m \u001b[39mNone\u001b[39;00m \u001b[39mand\u001b[39;00m object_pairs_hook \u001b[39mis\u001b[39;00m \u001b[39mNone\u001b[39;00m \u001b[39mand\u001b[39;00m \u001b[39mnot\u001b[39;00m kw):\n\u001b[0;32m--> 346\u001b[0m     \u001b[39mreturn\u001b[39;00m _default_decoder\u001b[39m.\u001b[39;49mdecode(s)\n\u001b[1;32m    347\u001b[0m \u001b[39mif\u001b[39;00m \u001b[39mcls\u001b[39m \u001b[39mis\u001b[39;00m \u001b[39mNone\u001b[39;00m:\n\u001b[1;32m    348\u001b[0m     \u001b[39mcls\u001b[39m \u001b[39m=\u001b[39m JSONDecoder\n",
      "File \u001b[0;32m~/.pyenv/versions/3.11.2/lib/python3.11/json/decoder.py:340\u001b[0m, in \u001b[0;36mJSONDecoder.decode\u001b[0;34m(self, s, _w)\u001b[0m\n\u001b[1;32m    338\u001b[0m end \u001b[39m=\u001b[39m _w(s, end)\u001b[39m.\u001b[39mend()\n\u001b[1;32m    339\u001b[0m \u001b[39mif\u001b[39;00m end \u001b[39m!=\u001b[39m \u001b[39mlen\u001b[39m(s):\n\u001b[0;32m--> 340\u001b[0m     \u001b[39mraise\u001b[39;00m JSONDecodeError(\u001b[39m\"\u001b[39m\u001b[39mExtra data\u001b[39m\u001b[39m\"\u001b[39m, s, end)\n\u001b[1;32m    341\u001b[0m \u001b[39mreturn\u001b[39;00m obj\n",
      "\u001b[0;31mJSONDecodeError\u001b[0m: Extra data: line 14 column 1 (char 406)"
     ]
    }
   ],
   "source": [
    "actual_skills = json.loads(response)\n",
    "\n",
    "expected_skills = {\n",
    "    \"technical_skills\": {\n",
    "        \"languages\": [\"Java\", \"Python\", \"JavaScript\", \"C#\"],\n",
    "        \"web\": [\"HTML5\", \"CSS3\", \"Bootstrap\", \"React\", \"Angular\", \"Node.js\"],\n",
    "        \"mobile\": [\"Android (Java, Kotlin)\", \"iOS (Swift)\"],\n",
    "    }\n",
    "}\n",
    "\n",
    "print(f\"Actual:   {actual_skills}\")\n",
    "print(f\"Expected: {expected_skills}\")\n",
    "assert actual_skills == expected_skills"
   ]
  },
  {
   "cell_type": "markdown",
   "metadata": {
    "id": "Hs6dm8dARViN"
   },
   "source": [
    "The failing test in the preceding cell, though jarring, is a good thing! It helped us catch a bug: There was some information loss as some skills were not included in the result. Let's try to get this test to pass with better prompting"
   ]
  },
  {
   "cell_type": "code",
   "execution_count": 42,
   "metadata": {
    "colab": {
     "base_uri": "https://localhost:8080/"
    },
    "id": "aDF0WWDCRViN",
    "outputId": "2f177711-53be-4f7d-cc68-bfca46dc35a9"
   },
   "outputs": [
    {
     "name": "stdout",
     "output_type": "stream",
     "text": [
      "{\n",
      "  \"technical_skills\": {\n",
      "    \"languages\": [\"Java\", \"Python\", \"JavaScript\", \"C#\"],\n",
      "    \"web\": [\"HTML5\", \"CSS3\", \"Bootstrap\", \"React\", \"Angular\", \"Node.js\"],\n",
      "    \"mobile\": [\"Android\", \"Kotlin\", \"Swift\"]\n",
      "  }\n",
      "}"
     ]
    }
   ],
   "source": [
    "import json\n",
    "\n",
    "def extract_json3(resume): return \"\"\"\n",
    "[INST] <<SYS>>\n",
    "You are an assistant responsible for extracting attributes from unstructured\n",
    "text and returning them as a valid JSON.\n",
    "In your response, DO NOT include any text other than the JSON response.\n",
    "Keys and values should be quoted with \"\". No trailing commas.\n",
    "\n",
    "Example: This is a resume, and I'm listing my technical skills:\n",
    "- Fruits: Apple, Banana, Coconut\n",
    "- Raw Vegetables: Lettuce, Cabbage, Zucchini, Carrots (Diced, Sliced)\n",
    "\n",
    "The response should then be in the format:\n",
    "{\n",
    "    \"technical_skills\":\n",
    "      {\n",
    "        {\n",
    "            \"fruits\": [\"Apple\", \"Banana\", \"Coconut\"],\n",
    "            \"raw_vegetables\": [\"Lettuce\", \"Cabbage\", \"Zucchini\", \"Carrots (Diced, Sliced)\"]\n",
    "        }\n",
    "    }\n",
    "}\n",
    "\n",
    "<</SYS>>\"\"\"+f\"\"\"\n",
    "\n",
    "Extract technical skills from the given document using only information in\n",
    "the following document:\n",
    "\n",
    "{resume}\n",
    "\n",
    "Only include the JSON response.\n",
    "[/INST]\n",
    "\"\"\"\n",
    "response = prompt(extract_json3(RESUME_1))"
   ]
  },
  {
   "cell_type": "markdown",
   "metadata": {},
   "source": []
  },
  {
   "cell_type": "code",
   "execution_count": 33,
   "metadata": {
    "colab": {
     "base_uri": "https://localhost:8080/"
    },
    "id": "OP4fvAInRViN",
    "outputId": "641936b6-43e2-4d24-ab45-d0e715d5866d"
   },
   "outputs": [
    {
     "name": "stdout",
     "output_type": "stream",
     "text": [
      "Actual:   {'technical_skills': {'languages': ['Java', 'Python', 'JavaScript', 'C#'], 'web': ['HTML5', 'CSS3', 'Bootstrap', 'React', 'Angular', 'Node.js'], 'mobile': ['Android', 'Kotlin', 'Swift']}}\n",
      "Expected: {'technical_skills': {'languages': ['Java', 'Python', 'JavaScript', 'C#'], 'web': ['HTML5', 'CSS3', 'Bootstrap', 'React', 'Angular', 'Node.js'], 'mobile': ['Android', 'Kotlin', 'Swift']}}\n"
     ]
    }
   ],
   "source": [
    "actual_skills = json.loads(response)\n",
    "expected_skills = {\n",
    "  \"technical_skills\": {\n",
    "    \"languages\": [\"Java\", \"Python\", \"JavaScript\", \"C#\"],\n",
    "    \"web\": [\"HTML5\", \"CSS3\", \"Bootstrap\", \"React\", \"Angular\", \"Node.js\"],\n",
    "    \"mobile\": [\"Android\", \"Kotlin\", \"Swift\"]\n",
    "  }\n",
    "}\n",
    "\n",
    "print(f\"Actual:   {actual_skills}\")\n",
    "print(f\"Expected: {expected_skills}\")\n",
    "assert actual_skills == expected_skills"
   ]
  },
  {
   "cell_type": "markdown",
   "metadata": {
    "id": "YAfgNeaaaFDc"
   },
   "source": [
    "## Exercise 3: Using an LLM to evaluate itself (or another LLM)"
   ]
  },
  {
   "cell_type": "code",
   "execution_count": 43,
   "metadata": {
    "colab": {
     "base_uri": "https://localhost:8080/"
    },
    "id": "F6jz22T6aIOV",
    "outputId": "5a400f31-e406-43f0-e58c-7a27f29b135f"
   },
   "outputs": [
    {
     "name": "stdout",
     "output_type": "stream",
     "text": [
      "Summaries are included below of an applicant's objective based on their resume, following your guidelines exactly for format: \n",
      "\n",
      "Dev dedicated with five or more years in complete web growth mobile app creation cloud computing searching for the capability to make a technologically creative work force at WidgetCraft to exploit the development information. Developers information, language competency;\n",
      "React., Bootstrap. JavaScript (for server and customer aspect development); mobile; with programming proficiency; profound familiarity in  creating database designs  as well.\n"
     ]
    }
   ],
   "source": [
    "def summarizer(resume): return f\"\"\"\n",
    "[INST]\n",
    "<<SYS>>\n",
    "You are a helpful assistant, skilled at providing succinct and accurate\n",
    "summaries of an applicant based on their resume. In your response, include only\n",
    "the summary no preamble.\n",
    "<</SYS>>\n",
    "\n",
    "Instruction: Generate a two-sentence summary of:\n",
    "\n",
    "{resume}\n",
    "\n",
    "[/INST]\n",
    "\n",
    "\"\"\"\n",
    "summary1 = prompt(summarizer(RESUME_1))"
   ]
  },
  {
   "cell_type": "code",
   "execution_count": 44,
   "metadata": {
    "colab": {
     "base_uri": "https://localhost:8080/"
    },
    "id": "ycwdr0yoa91c",
    "outputId": "0dd3209d-c118-4c2c-be9f-819b8613f740"
   },
   "outputs": [
    {
     "name": "stdout",
     "output_type": "stream",
     "text": [
      "{\n",
      "\"score\": 9,\n",
      "\"reason\": \"The summary provides a good overall picture of the candidate's experience and technical skills. It covers a wide range of languages, technologies, and platforms used in web development, mobile application development, and cloud computing. The use of keywords like 'completed' and 'programmability' helps to indicate that the candidate is knowledgeable in their field. However, it could benefit from providing more specific examples of the candidate's work or notable projects they have contributed to.\"\n",
      "}"
     ]
    }
   ],
   "source": [
    "def summary_evaluator(resume, summary): return f\"\"\"\n",
    "<SYS>\n",
    "You are a strict evaluator responsible for checking if summaries are accurate\n",
    "or not.\n",
    "</SYS>\n",
    "[INST]\n",
    "<Resume>\n",
    "{resume}\n",
    "</Resume>\n",
    "\n",
    "<Summary>\n",
    "{summary}\n",
    "</Summary>\n",
    "\n",
    "Instruction: Evaluate if <Summary> is an accurate summary of <Resume>.\n",
    "Present response in a JSON format with keys of score 1-10 and a short reason.\n",
    "[/INST]\n",
    "\"\"\"\n",
    "\n",
    "evaluation = prompt(summary_evaluator(RESUME_1, summary1))"
   ]
  },
  {
   "cell_type": "code",
   "execution_count": 45,
   "metadata": {
    "colab": {
     "base_uri": "https://localhost:8080/"
    },
    "id": "U9rP6X6vRViO",
    "outputId": "71661716-1474-4a99-aa59-a09d768ac457"
   },
   "outputs": [
    {
     "name": "stdout",
     "output_type": "stream",
     "text": [
      "Summary: Jane Doe is a results-driven Marketing Manager with over two years of experience at Horizon Marketing Solutions. In her role, she spearheaded end-to-end marketing efforts for clients resulting in 15-25% average revenue growth annually; successfully managed teams; analyzed competitor assests; collaborated withclients and provided insight-driven digital markstng solutions which generated an increment of social media engagemt anbopt an improvement ncaa- efficiency rates{\n",
      "\"score\": 9,\n",
      "\"reason\": \"Jane Doe's summary is almost perfectly matched to her resume. There are no notable mistakes or misrepresentations. She effectively showcases her marketing management skills, achievements, and accomplishments at Horizon Marketing Solutions.\"\n",
      "}{\n",
      "\"score\": 9,\n",
      "\"reason\": \"Jane Doe's summary is almost perfectly matched to her resume. There are no notable mistakes or misrepresentations. She effectively showcases her marketing management skills, achievements, and accomplishments at Horizon Marketing Solutions.\"\n",
      "}\n"
     ]
    }
   ],
   "source": [
    "\n",
    "summary_2 = prompt(summarizer(RESUME_2))\n",
    "evaluation2 = prompt(summary_evaluator(RESUME_2, summary_2))\n",
    "print(evaluation2)"
   ]
  },
  {
   "cell_type": "code",
   "execution_count": 46,
   "metadata": {
    "colab": {
     "base_uri": "https://localhost:8080/"
    },
    "id": "6JOdcsnIRViO",
    "outputId": "79b2050c-8fce-44da-8eaf-49f0beb21baf"
   },
   "outputs": [
    {
     "name": "stdout",
     "output_type": "stream",
     "text": [
      "{\n",
      "\"score\": 8,\n",
      "\"reason\": \"The summary accurately conveys some information from the resume, such as the person's professional experience, skills, and role in the field. However, it completely misunderstands their job title and occupation.\"\n",
      "}{\n",
      "\"score\": 8,\n",
      "\"reason\": \"The summary accurately conveys some information from the resume, such as the person's professional experience, skills, and role in the field. However, it completely misunderstands their job title and occupation.\"\n",
      "}\n"
     ]
    }
   ],
   "source": [
    "evaluation3 = prompt(summary_evaluator(RESUME_2, \"Bob Dole is a zookeeper\"))\n",
    "print(evaluation3)"
   ]
  },
  {
   "cell_type": "code",
   "execution_count": null,
   "metadata": {
    "id": "VNbUAbvwRViO"
   },
   "outputs": [],
   "source": []
  }
 ],
 "metadata": {
  "accelerator": "GPU",
  "colab": {
   "gpuType": "T4",
   "provenance": []
  },
  "kernelspec": {
   "display_name": "Python 3 (ipykernel)",
   "language": "python",
   "name": "python3"
  },
  "language_info": {
   "codemirror_mode": {
    "name": "ipython",
    "version": 3
   },
   "file_extension": ".py",
   "mimetype": "text/x-python",
   "name": "python",
   "nbconvert_exporter": "python",
   "pygments_lexer": "ipython3",
   "version": "3.11.2"
  },
  "widgets": {
   "application/vnd.jupyter.widget-state+json": {
    "1ae1beebd8f54193b08d4a5d0eec5c85": {
     "model_module": "@jupyter-widgets/controls",
     "model_module_version": "1.5.0",
     "model_name": "HTMLModel",
     "state": {
      "_dom_classes": [],
      "_model_module": "@jupyter-widgets/controls",
      "_model_module_version": "1.5.0",
      "_model_name": "HTMLModel",
      "_view_count": null,
      "_view_module": "@jupyter-widgets/controls",
      "_view_module_version": "1.5.0",
      "_view_name": "HTMLView",
      "description": "",
      "description_tooltip": null,
      "layout": "IPY_MODEL_758fde3020e042c780ae4b87350ca083",
      "placeholder": "​",
      "style": "IPY_MODEL_201f6407dabe447ab26bd9ced5a2da50",
      "value": "Fetching 1 files: 100%"
     }
    },
    "1dfcb5f6b08e414d8bbc57c04f0c50e1": {
     "model_module": "@jupyter-widgets/controls",
     "model_module_version": "1.5.0",
     "model_name": "DescriptionStyleModel",
     "state": {
      "_model_module": "@jupyter-widgets/controls",
      "_model_module_version": "1.5.0",
      "_model_name": "DescriptionStyleModel",
      "_view_count": null,
      "_view_module": "@jupyter-widgets/base",
      "_view_module_version": "1.2.0",
      "_view_name": "StyleView",
      "description_width": ""
     }
    },
    "201f6407dabe447ab26bd9ced5a2da50": {
     "model_module": "@jupyter-widgets/controls",
     "model_module_version": "1.5.0",
     "model_name": "DescriptionStyleModel",
     "state": {
      "_model_module": "@jupyter-widgets/controls",
      "_model_module_version": "1.5.0",
      "_model_name": "DescriptionStyleModel",
      "_view_count": null,
      "_view_module": "@jupyter-widgets/base",
      "_view_module_version": "1.2.0",
      "_view_name": "StyleView",
      "description_width": ""
     }
    },
    "2be3c5ffa0934b208b69d5cc83d09e45": {
     "model_module": "@jupyter-widgets/controls",
     "model_module_version": "1.5.0",
     "model_name": "ProgressStyleModel",
     "state": {
      "_model_module": "@jupyter-widgets/controls",
      "_model_module_version": "1.5.0",
      "_model_name": "ProgressStyleModel",
      "_view_count": null,
      "_view_module": "@jupyter-widgets/base",
      "_view_module_version": "1.2.0",
      "_view_name": "StyleView",
      "bar_color": null,
      "description_width": ""
     }
    },
    "33a2755be296447a87c819a5c24b5841": {
     "model_module": "@jupyter-widgets/controls",
     "model_module_version": "1.5.0",
     "model_name": "FloatProgressModel",
     "state": {
      "_dom_classes": [],
      "_model_module": "@jupyter-widgets/controls",
      "_model_module_version": "1.5.0",
      "_model_name": "FloatProgressModel",
      "_view_count": null,
      "_view_module": "@jupyter-widgets/controls",
      "_view_module_version": "1.5.0",
      "_view_name": "ProgressView",
      "bar_style": "success",
      "description": "",
      "description_tooltip": null,
      "layout": "IPY_MODEL_b231a0f884af4ce89be01ff5b569e028",
      "max": 1,
      "min": 0,
      "orientation": "horizontal",
      "style": "IPY_MODEL_a6c79dc4876a47dfb8581e88142b8621",
      "value": 1
     }
    },
    "39cbc986c106438cb6772cd87105de23": {
     "model_module": "@jupyter-widgets/controls",
     "model_module_version": "1.5.0",
     "model_name": "HTMLModel",
     "state": {
      "_dom_classes": [],
      "_model_module": "@jupyter-widgets/controls",
      "_model_module_version": "1.5.0",
      "_model_name": "HTMLModel",
      "_view_count": null,
      "_view_module": "@jupyter-widgets/controls",
      "_view_module_version": "1.5.0",
      "_view_name": "HTMLView",
      "description": "",
      "description_tooltip": null,
      "layout": "IPY_MODEL_f9efa2151b7d45a683cb071c6b19bf65",
      "placeholder": "​",
      "style": "IPY_MODEL_1dfcb5f6b08e414d8bbc57c04f0c50e1",
      "value": "Fetching 1 files: 100%"
     }
    },
    "41beaf32ea664566b61daf9736a37524": {
     "model_module": "@jupyter-widgets/base",
     "model_module_version": "1.2.0",
     "model_name": "LayoutModel",
     "state": {
      "_model_module": "@jupyter-widgets/base",
      "_model_module_version": "1.2.0",
      "_model_name": "LayoutModel",
      "_view_count": null,
      "_view_module": "@jupyter-widgets/base",
      "_view_module_version": "1.2.0",
      "_view_name": "LayoutView",
      "align_content": null,
      "align_items": null,
      "align_self": null,
      "border": null,
      "bottom": null,
      "display": null,
      "flex": null,
      "flex_flow": null,
      "grid_area": null,
      "grid_auto_columns": null,
      "grid_auto_flow": null,
      "grid_auto_rows": null,
      "grid_column": null,
      "grid_gap": null,
      "grid_row": null,
      "grid_template_areas": null,
      "grid_template_columns": null,
      "grid_template_rows": null,
      "height": null,
      "justify_content": null,
      "justify_items": null,
      "left": null,
      "margin": null,
      "max_height": null,
      "max_width": null,
      "min_height": null,
      "min_width": null,
      "object_fit": null,
      "object_position": null,
      "order": null,
      "overflow": null,
      "overflow_x": null,
      "overflow_y": null,
      "padding": null,
      "right": null,
      "top": null,
      "visibility": null,
      "width": null
     }
    },
    "45702ec8fb0147be85191fb113310b3e": {
     "model_module": "@jupyter-widgets/base",
     "model_module_version": "1.2.0",
     "model_name": "LayoutModel",
     "state": {
      "_model_module": "@jupyter-widgets/base",
      "_model_module_version": "1.2.0",
      "_model_name": "LayoutModel",
      "_view_count": null,
      "_view_module": "@jupyter-widgets/base",
      "_view_module_version": "1.2.0",
      "_view_name": "LayoutView",
      "align_content": null,
      "align_items": null,
      "align_self": null,
      "border": null,
      "bottom": null,
      "display": null,
      "flex": null,
      "flex_flow": null,
      "grid_area": null,
      "grid_auto_columns": null,
      "grid_auto_flow": null,
      "grid_auto_rows": null,
      "grid_column": null,
      "grid_gap": null,
      "grid_row": null,
      "grid_template_areas": null,
      "grid_template_columns": null,
      "grid_template_rows": null,
      "height": null,
      "justify_content": null,
      "justify_items": null,
      "left": null,
      "margin": null,
      "max_height": null,
      "max_width": null,
      "min_height": null,
      "min_width": null,
      "object_fit": null,
      "object_position": null,
      "order": null,
      "overflow": null,
      "overflow_x": null,
      "overflow_y": null,
      "padding": null,
      "right": null,
      "top": null,
      "visibility": null,
      "width": null
     }
    },
    "46c3c75ae41347249251b8752673c8a7": {
     "model_module": "@jupyter-widgets/controls",
     "model_module_version": "1.5.0",
     "model_name": "HTMLModel",
     "state": {
      "_dom_classes": [],
      "_model_module": "@jupyter-widgets/controls",
      "_model_module_version": "1.5.0",
      "_model_name": "HTMLModel",
      "_view_count": null,
      "_view_module": "@jupyter-widgets/controls",
      "_view_module_version": "1.5.0",
      "_view_name": "HTMLView",
      "description": "",
      "description_tooltip": null,
      "layout": "IPY_MODEL_c0e629fdd8cb440b9561b1a138fe3077",
      "placeholder": "​",
      "style": "IPY_MODEL_93589c02ebc245deba7ce80748f504a2",
      "value": " 1/1 [00:00&lt;00:00, 53.18it/s]"
     }
    },
    "758fde3020e042c780ae4b87350ca083": {
     "model_module": "@jupyter-widgets/base",
     "model_module_version": "1.2.0",
     "model_name": "LayoutModel",
     "state": {
      "_model_module": "@jupyter-widgets/base",
      "_model_module_version": "1.2.0",
      "_model_name": "LayoutModel",
      "_view_count": null,
      "_view_module": "@jupyter-widgets/base",
      "_view_module_version": "1.2.0",
      "_view_name": "LayoutView",
      "align_content": null,
      "align_items": null,
      "align_self": null,
      "border": null,
      "bottom": null,
      "display": null,
      "flex": null,
      "flex_flow": null,
      "grid_area": null,
      "grid_auto_columns": null,
      "grid_auto_flow": null,
      "grid_auto_rows": null,
      "grid_column": null,
      "grid_gap": null,
      "grid_row": null,
      "grid_template_areas": null,
      "grid_template_columns": null,
      "grid_template_rows": null,
      "height": null,
      "justify_content": null,
      "justify_items": null,
      "left": null,
      "margin": null,
      "max_height": null,
      "max_width": null,
      "min_height": null,
      "min_width": null,
      "object_fit": null,
      "object_position": null,
      "order": null,
      "overflow": null,
      "overflow_x": null,
      "overflow_y": null,
      "padding": null,
      "right": null,
      "top": null,
      "visibility": null,
      "width": null
     }
    },
    "80c03349e1cd46f7b1888d76cbc4466e": {
     "model_module": "@jupyter-widgets/controls",
     "model_module_version": "1.5.0",
     "model_name": "HTMLModel",
     "state": {
      "_dom_classes": [],
      "_model_module": "@jupyter-widgets/controls",
      "_model_module_version": "1.5.0",
      "_model_name": "HTMLModel",
      "_view_count": null,
      "_view_module": "@jupyter-widgets/controls",
      "_view_module_version": "1.5.0",
      "_view_name": "HTMLView",
      "description": "",
      "description_tooltip": null,
      "layout": "IPY_MODEL_45702ec8fb0147be85191fb113310b3e",
      "placeholder": "​",
      "style": "IPY_MODEL_acc3b209bb3d46278aac2c2e59e7dd5a",
      "value": " 1/1 [00:00&lt;00:00, 44.15it/s]"
     }
    },
    "93589c02ebc245deba7ce80748f504a2": {
     "model_module": "@jupyter-widgets/controls",
     "model_module_version": "1.5.0",
     "model_name": "DescriptionStyleModel",
     "state": {
      "_model_module": "@jupyter-widgets/controls",
      "_model_module_version": "1.5.0",
      "_model_name": "DescriptionStyleModel",
      "_view_count": null,
      "_view_module": "@jupyter-widgets/base",
      "_view_module_version": "1.2.0",
      "_view_name": "StyleView",
      "description_width": ""
     }
    },
    "a6c79dc4876a47dfb8581e88142b8621": {
     "model_module": "@jupyter-widgets/controls",
     "model_module_version": "1.5.0",
     "model_name": "ProgressStyleModel",
     "state": {
      "_model_module": "@jupyter-widgets/controls",
      "_model_module_version": "1.5.0",
      "_model_name": "ProgressStyleModel",
      "_view_count": null,
      "_view_module": "@jupyter-widgets/base",
      "_view_module_version": "1.2.0",
      "_view_name": "StyleView",
      "bar_color": null,
      "description_width": ""
     }
    },
    "acc3b209bb3d46278aac2c2e59e7dd5a": {
     "model_module": "@jupyter-widgets/controls",
     "model_module_version": "1.5.0",
     "model_name": "DescriptionStyleModel",
     "state": {
      "_model_module": "@jupyter-widgets/controls",
      "_model_module_version": "1.5.0",
      "_model_name": "DescriptionStyleModel",
      "_view_count": null,
      "_view_module": "@jupyter-widgets/base",
      "_view_module_version": "1.2.0",
      "_view_name": "StyleView",
      "description_width": ""
     }
    },
    "b231a0f884af4ce89be01ff5b569e028": {
     "model_module": "@jupyter-widgets/base",
     "model_module_version": "1.2.0",
     "model_name": "LayoutModel",
     "state": {
      "_model_module": "@jupyter-widgets/base",
      "_model_module_version": "1.2.0",
      "_model_name": "LayoutModel",
      "_view_count": null,
      "_view_module": "@jupyter-widgets/base",
      "_view_module_version": "1.2.0",
      "_view_name": "LayoutView",
      "align_content": null,
      "align_items": null,
      "align_self": null,
      "border": null,
      "bottom": null,
      "display": null,
      "flex": null,
      "flex_flow": null,
      "grid_area": null,
      "grid_auto_columns": null,
      "grid_auto_flow": null,
      "grid_auto_rows": null,
      "grid_column": null,
      "grid_gap": null,
      "grid_row": null,
      "grid_template_areas": null,
      "grid_template_columns": null,
      "grid_template_rows": null,
      "height": null,
      "justify_content": null,
      "justify_items": null,
      "left": null,
      "margin": null,
      "max_height": null,
      "max_width": null,
      "min_height": null,
      "min_width": null,
      "object_fit": null,
      "object_position": null,
      "order": null,
      "overflow": null,
      "overflow_x": null,
      "overflow_y": null,
      "padding": null,
      "right": null,
      "top": null,
      "visibility": null,
      "width": null
     }
    },
    "c0e629fdd8cb440b9561b1a138fe3077": {
     "model_module": "@jupyter-widgets/base",
     "model_module_version": "1.2.0",
     "model_name": "LayoutModel",
     "state": {
      "_model_module": "@jupyter-widgets/base",
      "_model_module_version": "1.2.0",
      "_model_name": "LayoutModel",
      "_view_count": null,
      "_view_module": "@jupyter-widgets/base",
      "_view_module_version": "1.2.0",
      "_view_name": "LayoutView",
      "align_content": null,
      "align_items": null,
      "align_self": null,
      "border": null,
      "bottom": null,
      "display": null,
      "flex": null,
      "flex_flow": null,
      "grid_area": null,
      "grid_auto_columns": null,
      "grid_auto_flow": null,
      "grid_auto_rows": null,
      "grid_column": null,
      "grid_gap": null,
      "grid_row": null,
      "grid_template_areas": null,
      "grid_template_columns": null,
      "grid_template_rows": null,
      "height": null,
      "justify_content": null,
      "justify_items": null,
      "left": null,
      "margin": null,
      "max_height": null,
      "max_width": null,
      "min_height": null,
      "min_width": null,
      "object_fit": null,
      "object_position": null,
      "order": null,
      "overflow": null,
      "overflow_x": null,
      "overflow_y": null,
      "padding": null,
      "right": null,
      "top": null,
      "visibility": null,
      "width": null
     }
    },
    "c62b01d2c8aa48db92f40a10ce1301d3": {
     "model_module": "@jupyter-widgets/controls",
     "model_module_version": "1.5.0",
     "model_name": "FloatProgressModel",
     "state": {
      "_dom_classes": [],
      "_model_module": "@jupyter-widgets/controls",
      "_model_module_version": "1.5.0",
      "_model_name": "FloatProgressModel",
      "_view_count": null,
      "_view_module": "@jupyter-widgets/controls",
      "_view_module_version": "1.5.0",
      "_view_name": "ProgressView",
      "bar_style": "success",
      "description": "",
      "description_tooltip": null,
      "layout": "IPY_MODEL_41beaf32ea664566b61daf9736a37524",
      "max": 1,
      "min": 0,
      "orientation": "horizontal",
      "style": "IPY_MODEL_2be3c5ffa0934b208b69d5cc83d09e45",
      "value": 1
     }
    },
    "e88c77cd123f4d9b99163b749b364afc": {
     "model_module": "@jupyter-widgets/controls",
     "model_module_version": "1.5.0",
     "model_name": "HBoxModel",
     "state": {
      "_dom_classes": [],
      "_model_module": "@jupyter-widgets/controls",
      "_model_module_version": "1.5.0",
      "_model_name": "HBoxModel",
      "_view_count": null,
      "_view_module": "@jupyter-widgets/controls",
      "_view_module_version": "1.5.0",
      "_view_name": "HBoxView",
      "box_style": "",
      "children": [
       "IPY_MODEL_39cbc986c106438cb6772cd87105de23",
       "IPY_MODEL_33a2755be296447a87c819a5c24b5841",
       "IPY_MODEL_80c03349e1cd46f7b1888d76cbc4466e"
      ],
      "layout": "IPY_MODEL_f2cd65eb4c684891a652f47874e29ff5"
     }
    },
    "e917645a4e4d4b1c8ea27ff6404c2340": {
     "model_module": "@jupyter-widgets/controls",
     "model_module_version": "1.5.0",
     "model_name": "HBoxModel",
     "state": {
      "_dom_classes": [],
      "_model_module": "@jupyter-widgets/controls",
      "_model_module_version": "1.5.0",
      "_model_name": "HBoxModel",
      "_view_count": null,
      "_view_module": "@jupyter-widgets/controls",
      "_view_module_version": "1.5.0",
      "_view_name": "HBoxView",
      "box_style": "",
      "children": [
       "IPY_MODEL_1ae1beebd8f54193b08d4a5d0eec5c85",
       "IPY_MODEL_c62b01d2c8aa48db92f40a10ce1301d3",
       "IPY_MODEL_46c3c75ae41347249251b8752673c8a7"
      ],
      "layout": "IPY_MODEL_fb100cca2c644048aeaea9a52bb5cc71"
     }
    },
    "f2cd65eb4c684891a652f47874e29ff5": {
     "model_module": "@jupyter-widgets/base",
     "model_module_version": "1.2.0",
     "model_name": "LayoutModel",
     "state": {
      "_model_module": "@jupyter-widgets/base",
      "_model_module_version": "1.2.0",
      "_model_name": "LayoutModel",
      "_view_count": null,
      "_view_module": "@jupyter-widgets/base",
      "_view_module_version": "1.2.0",
      "_view_name": "LayoutView",
      "align_content": null,
      "align_items": null,
      "align_self": null,
      "border": null,
      "bottom": null,
      "display": null,
      "flex": null,
      "flex_flow": null,
      "grid_area": null,
      "grid_auto_columns": null,
      "grid_auto_flow": null,
      "grid_auto_rows": null,
      "grid_column": null,
      "grid_gap": null,
      "grid_row": null,
      "grid_template_areas": null,
      "grid_template_columns": null,
      "grid_template_rows": null,
      "height": null,
      "justify_content": null,
      "justify_items": null,
      "left": null,
      "margin": null,
      "max_height": null,
      "max_width": null,
      "min_height": null,
      "min_width": null,
      "object_fit": null,
      "object_position": null,
      "order": null,
      "overflow": null,
      "overflow_x": null,
      "overflow_y": null,
      "padding": null,
      "right": null,
      "top": null,
      "visibility": null,
      "width": null
     }
    },
    "f9efa2151b7d45a683cb071c6b19bf65": {
     "model_module": "@jupyter-widgets/base",
     "model_module_version": "1.2.0",
     "model_name": "LayoutModel",
     "state": {
      "_model_module": "@jupyter-widgets/base",
      "_model_module_version": "1.2.0",
      "_model_name": "LayoutModel",
      "_view_count": null,
      "_view_module": "@jupyter-widgets/base",
      "_view_module_version": "1.2.0",
      "_view_name": "LayoutView",
      "align_content": null,
      "align_items": null,
      "align_self": null,
      "border": null,
      "bottom": null,
      "display": null,
      "flex": null,
      "flex_flow": null,
      "grid_area": null,
      "grid_auto_columns": null,
      "grid_auto_flow": null,
      "grid_auto_rows": null,
      "grid_column": null,
      "grid_gap": null,
      "grid_row": null,
      "grid_template_areas": null,
      "grid_template_columns": null,
      "grid_template_rows": null,
      "height": null,
      "justify_content": null,
      "justify_items": null,
      "left": null,
      "margin": null,
      "max_height": null,
      "max_width": null,
      "min_height": null,
      "min_width": null,
      "object_fit": null,
      "object_position": null,
      "order": null,
      "overflow": null,
      "overflow_x": null,
      "overflow_y": null,
      "padding": null,
      "right": null,
      "top": null,
      "visibility": null,
      "width": null
     }
    },
    "fb100cca2c644048aeaea9a52bb5cc71": {
     "model_module": "@jupyter-widgets/base",
     "model_module_version": "1.2.0",
     "model_name": "LayoutModel",
     "state": {
      "_model_module": "@jupyter-widgets/base",
      "_model_module_version": "1.2.0",
      "_model_name": "LayoutModel",
      "_view_count": null,
      "_view_module": "@jupyter-widgets/base",
      "_view_module_version": "1.2.0",
      "_view_name": "LayoutView",
      "align_content": null,
      "align_items": null,
      "align_self": null,
      "border": null,
      "bottom": null,
      "display": null,
      "flex": null,
      "flex_flow": null,
      "grid_area": null,
      "grid_auto_columns": null,
      "grid_auto_flow": null,
      "grid_auto_rows": null,
      "grid_column": null,
      "grid_gap": null,
      "grid_row": null,
      "grid_template_areas": null,
      "grid_template_columns": null,
      "grid_template_rows": null,
      "height": null,
      "justify_content": null,
      "justify_items": null,
      "left": null,
      "margin": null,
      "max_height": null,
      "max_width": null,
      "min_height": null,
      "min_width": null,
      "object_fit": null,
      "object_position": null,
      "order": null,
      "overflow": null,
      "overflow_x": null,
      "overflow_y": null,
      "padding": null,
      "right": null,
      "top": null,
      "visibility": null,
      "width": null
     }
    }
   }
  }
 },
 "nbformat": 4,
 "nbformat_minor": 4
}
