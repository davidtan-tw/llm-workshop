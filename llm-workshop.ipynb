{
 "cells": [
  {
   "cell_type": "markdown",
   "metadata": {
    "id": "jme5Rb5tLs2C"
   },
   "source": [
    "## Setup"
   ]
  },
  {
   "cell_type": "code",
   "execution_count": null,
   "metadata": {
    "colab": {
     "base_uri": "https://localhost:8080/"
    },
    "id": "vWnlrqZH0RjM",
    "outputId": "ba855daf-2a33-47e7-9a66-10d747492035",
    "tags": []
   },
   "outputs": [],
   "source": [
    "!pip install langchain ctransformers"
   ]
  },
  {
   "cell_type": "code",
   "execution_count": null,
   "metadata": {
    "colab": {
     "base_uri": "https://localhost:8080/",
     "height": 81,
     "referenced_widgets": [
      "6150fe9c8d774caf8970cd4c03800bc6",
      "df81af484fd64626912d3055b8cb390c",
      "e6c5cd86ec1940f7a9b77bc5df98699b",
      "c6c096a20dae4732b2c0908a496d0d39",
      "9238d403065e4de8882458d76d9aed4f",
      "9369ed00595f4551a4e55eb75e091d4f",
      "b2aeb4cc85584aa08e89cd6117e510f9",
      "a21e05d7bc5d44c4920479ed0e73b629",
      "ed105cbac094427f96ea1dc3b26ead88",
      "7fd9d6c75f644c22a4ecf5040e04deb0",
      "20a3d2e35fce428cb812e723f50d238b",
      "67d13a549f594da2a2d7bc3a696516e8",
      "053c4f7ddd4c4650a07b263996e6130f",
      "5755933fdb874a479e050d3e8be94b81",
      "ac0e0dad2a6c4cb4932fc0a909fa9609",
      "b3b17c9bd1e74a0883bbbc70746b6f7e",
      "e8b9db92db8f4690adc58bbd5bcd0536",
      "17ffb3039f004c1d9b37580971f4614c",
      "744f4b73bf334e08a0e104e54e53fc96",
      "54d67983569d4683b9c9ab29f94aa5ca",
      "1fe62a00b85940c3b685ff6a1cacb2fe",
      "41e71784eb274bd287c3960d1450b04b"
     ]
    },
    "id": "D1AWIifA0i3B",
    "outputId": "52d14051-4a1a-4520-b026-d3ae516149a1",
    "tags": []
   },
   "outputs": [],
   "source": [
    "from langchain.llms import CTransformers\n",
    "from langchain import PromptTemplate\n",
    "\n",
    "llm = CTransformers(model='TheBloke/Llama-2-7B-Chat-GGML',\n",
    "                    model_file='llama-2-7b-chat.ggmlv3.q4_0.bin',\n",
    "                    model_type=\"llama\",\n",
    "                    gpu_layers=5, context_length=8196, reset=True, threads=8,\n",
    "                    top_k=20, top_p=0.95, temperature=0)"
   ]
  },
  {
   "cell_type": "markdown",
   "metadata": {
    "id": "epHSyIrG02LS"
   },
   "source": [
    "**Smoke test**: Check that the model is loaded successfully and generates good-quality responses"
   ]
  },
  {
   "cell_type": "code",
   "execution_count": null,
   "metadata": {
    "colab": {
     "base_uri": "https://localhost:8080/"
    },
    "id": "aM1A6jfP1EDB",
    "outputId": "169c06d9-1f83-49ae-c2d4-658f58de535b",
    "tags": []
   },
   "outputs": [],
   "source": [
    "template = \"\"\"\n",
    "### Instruction: {query}. Be succinct, and return response as a 5-point list.\n",
    "### Response:\"\"\"\n",
    "prompt_template = PromptTemplate(input_variables=[\"query\"],\n",
    "                        template=template)\n",
    "prompt = prompt_template.format(query=\"How can I be a more balanced human being?\")\n",
    "print(llm(prompt))\n",
    "\n",
    "# Note: this cell should take about ~30-60 seconds to run successfully (on local)\n",
    "# Note: this cell should take about ~60-80 seconds to run successfully (on an instance with GPUs)"
   ]
  },
  {
   "cell_type": "code",
   "execution_count": null,
   "metadata": {},
   "outputs": [],
   "source": [
    "# common variables that we'll use in multiple exercises\n",
    "\n",
    "RESUME = \"\"\"\n",
    "Objective: Dedicated IT Developer with over 5 years of experience in full-stack web development, mobile application development, and cloud computing. Seeking to leverage my technical expertise and problem-solving skills to contribute to a forward-thinking team at WidgetCraft.\n",
    "\n",
    "Technical Skills:\n",
    "- Languages: Java, Python, JavaScript, C#\n",
    "- Web: HTML5, CSS3, Bootstrap, React, Angular, Node.js\n",
    "- Mobile: Android (Java, Kotlin), iOS (Swift)\n",
    "\"\"\""
   ]
  },
  {
   "cell_type": "markdown",
   "metadata": {
    "id": "NQVBY0F41xXi"
   },
   "source": [
    "## Exercise 1: Manual exploratory testing"
   ]
  },
  {
   "cell_type": "code",
   "execution_count": null,
   "metadata": {
    "colab": {
     "base_uri": "https://localhost:8080/"
    },
    "id": "l9_Xz4670toG",
    "outputId": "468572a4-b305-433f-d3af-72766886eea4"
   },
   "outputs": [],
   "source": [
    "template = \"\"\"\n",
    "### Instruction: Extract technical skills from this document:\n",
    "{resume}\n",
    "### Response:\"\"\"\n",
    "\n",
    "prompt_template = PromptTemplate(input_variables=[\"resume\"], template=template)\n",
    "prompt = prompt_template.format(resume=RESUME)\n",
    "\n",
    "print(llm(prompt))"
   ]
  },
  {
   "cell_type": "markdown",
   "metadata": {
    "id": "nBhXFrAX2B1y"
   },
   "source": [
    "The result is human-readable, but not a very helpful data structure. Let's get the model to return JSON so we can work with it in automated tests (Exercise 2) and any other downstream components."
   ]
  },
  {
   "cell_type": "code",
   "execution_count": null,
   "metadata": {
    "colab": {
     "base_uri": "https://localhost:8080/"
    },
    "id": "G0O8F_ux74fN",
    "outputId": "da4b7ed0-91ea-4ba0-8d6f-ec8c3c255043"
   },
   "outputs": [],
   "source": [
    "template = \"\"\"\n",
    "### Instruction: Extract technical skills from this document using only information in the following document. Return results in valid JSON format.\n",
    "{resume}\n",
    "### Response:\n",
    "\"\"\"\n",
    "\n",
    "prompt_template = PromptTemplate(input_variables=[\"resume\"], template=template)\n",
    "prompt = prompt_template.format(resume=RESUME)\n",
    "\n",
    "result = llm(prompt)\n",
    "print(result)"
   ]
  },
  {
   "cell_type": "markdown",
   "metadata": {
    "id": "4pLmC1g-2sNd"
   },
   "source": [
    "## Exercise 2: Automated tests. Example-based tests"
   ]
  },
  {
   "cell_type": "code",
   "execution_count": null,
   "metadata": {
    "id": "E8jofxFIcUnj"
   },
   "outputs": [],
   "source": [
    "import json\n",
    "\n",
    "template = \"\"\"\n",
    "### Instruction: Extract technical skills from this document using only information in the following document. Return results in valid JSON format.\n",
    "Final answer should be in the following format:\n",
    "\n",
    "{{\"technical_skills\": {{\"key_1\": [\"value1\", \"value2\", \"value3\" ], \"key_2\": [\"value1\", \"value2\", \"value3\"]}}}}\n",
    "\n",
    "Ensure that key_1, key_2, etc. are exact valid keys from user input, presented in snake_case\n",
    "\n",
    "### Input: {resume}\n",
    "\n",
    "### Response:\"\"\"\n",
    "prompt_template = PromptTemplate(\n",
    "    input_variables=[\"resume\"],\n",
    "    template=template,\n",
    ")\n",
    "prompt = prompt_template.format(resume=RESUME)\n",
    "result = llm(prompt)\n",
    "\n",
    "print(result)"
   ]
  },
  {
   "cell_type": "code",
   "execution_count": null,
   "metadata": {},
   "outputs": [],
   "source": [
    "actual_skills = json.loads(result)\n",
    "\n",
    "expected_skills = {\n",
    "    \"technical_skills\": {\n",
    "        \"languages\": [\"Java\", \"Python\", \"JavaScript\", \"C#\"],\n",
    "        \"web\": [\"HTML5\", \"CSS3\", \"Bootstrap\", \"React\", \"Angular\", \"Node.js\"],\n",
    "        \"mobile\": [\"Android (Java, Kotlin)\", \"iOS (Swift)\"],\n",
    "    }\n",
    "}\n",
    "\n",
    "print(f\"Actual:   {actual_skills}\")\n",
    "print(f\"Expected: {expected_skills}\")\n",
    "assert actual_skills == expected_skills"
   ]
  },
  {
   "cell_type": "markdown",
   "metadata": {},
   "source": [
    "The failing test in the preceding cell, though jarring, is a good thing! It helped us catch a bug: There was some information loss as some skills were not included in the result. Let's try to get this test to pass with better prompting"
   ]
  },
  {
   "cell_type": "code",
   "execution_count": null,
   "metadata": {},
   "outputs": [],
   "source": [
    "import json\n",
    "\n",
    "template = \"\"\"\n",
    "[INST] <<SYS>>\n",
    "You are an assistant responsible for extracting attributes from unstructured text and returning them as a valid JSON. \n",
    "In your response, DO NOT include any text other than the JSON response.\n",
    "\n",
    "Example: This is a resume, and I'm listing my technical skills:\n",
    "- Fruits: Apple, Banana, Coconut\n",
    "- Raw Vegetables: Lettuce, Cabbage, Zucchini, Carrots (Diced, Sliced)\n",
    "\n",
    "The response should be:\n",
    "{{\"technical_skills\": {{\"fruits\": [\"Apple\", \"Banana\", \"Coconut\"], \"raw_vegetables\": [\"Lettuce\", \"Cabbage\", \"Zucchini\", \"Carrots (Diced, Sliced)\"]}}}}\n",
    "\n",
    "<</SYS>>\n",
    "\n",
    "Extract technical skills from the given document using only information in the following document: {resume}\n",
    "\n",
    "[/INST]\n",
    "\"\"\"\n",
    "prompt_template = PromptTemplate(\n",
    "    input_variables=[\"resume\"],\n",
    "    template=template,\n",
    ")\n",
    "prompt = prompt_template.format(resume=RESUME)\n",
    "result = llm(prompt)\n",
    "\n",
    "print(result)"
   ]
  },
  {
   "cell_type": "code",
   "execution_count": null,
   "metadata": {},
   "outputs": [],
   "source": [
    "actual_skills = json.loads(result)\n",
    "\n",
    "expected_skills = {\n",
    "    \"technical_skills\": {\n",
    "        \"languages\": [\"Java\", \"Python\", \"JavaScript\", \"C#\"],\n",
    "        \"web\": [\"HTML5\", \"CSS3\", \"Bootstrap\", \"React\", \"Angular\", \"Node.js\"],\n",
    "        \"mobile\": [\"Android (Java, Kotlin)\", \"iOS (Swift)\"],\n",
    "    }\n",
    "}\n",
    "\n",
    "print(f\"Actual:   {actual_skills}\")\n",
    "print(f\"Expected: {expected_skills}\")\n",
    "assert actual_skills == expected_skills"
   ]
  },
  {
   "cell_type": "markdown",
   "metadata": {
    "id": "YAfgNeaaaFDc"
   },
   "source": [
    "## Exercise 3: Using an LLM to evaluate itself (or another LLM)"
   ]
  },
  {
   "cell_type": "code",
   "execution_count": null,
   "metadata": {
    "colab": {
     "base_uri": "https://localhost:8080/"
    },
    "id": "F6jz22T6aIOV",
    "outputId": "c28b61aa-5ae8-4061-e7fb-6d168d5631ff"
   },
   "outputs": [],
   "source": [
    "template = \"\"\"\n",
    "[INST]\n",
    "<<SYS>>\n",
    "You are a helpful assistant, skilled at providing succinct and accurate summaries of an applicant based on their resume. In your response, include only the summary without any preamble.\n",
    "<</SYS>>\n",
    "\n",
    "Instruction: Generate a two-sentence summary of: {resume}\n",
    "[/INST]\n",
    "\"\"\"\n",
    "summarise_resume_prompt_template = PromptTemplate(\n",
    "    input_variables=[\"resume\"],\n",
    "    template=template,\n",
    ")\n",
    "summarise_resume_prompt = summarise_resume_prompt_template.format(resume=RESUME)\n",
    "\n",
    "summary = llm(summarise_resume_prompt)\n",
    "print(summary)"
   ]
  },
  {
   "cell_type": "code",
   "execution_count": null,
   "metadata": {
    "colab": {
     "base_uri": "https://localhost:8080/"
    },
    "id": "ycwdr0yoa91c",
    "outputId": "f6f7e99f-8ef9-45f7-be9b-a026a601e8b7"
   },
   "outputs": [],
   "source": [
    "evaluation_template = \"\"\"\n",
    "<SYS>\n",
    "You are a strict evaluator responsible for checking if summaries are accurate or not.\n",
    "</SYS>\n",
    "[INST]\n",
    "<Resume>\n",
    "{resume}\n",
    "</Resume>\n",
    "\n",
    "<Summary>\n",
    "{summary}\n",
    "</Summary>\n",
    "\n",
    "Instruction: Evaluate if <Summary> is an accurate summary of <Resume>. Present response in a JSON format with keys of score and a short reason.\n",
    "[/INST]\n",
    "\"\"\"\n",
    "evaluation_prompt_template = PromptTemplate(\n",
    "    input_variables=[\"summary\", \"resume\"],\n",
    "    template=evaluation_template,\n",
    ")\n",
    "evaluation_prompt = evaluation_prompt_template.format(summary=summary, resume=RESUME)\n",
    "\n",
    "# print(llm(evaluation_prompt))"
   ]
  },
  {
   "cell_type": "code",
   "execution_count": null,
   "metadata": {},
   "outputs": [],
   "source": [
    "RESUME_2 = \"\"\"\n",
    "Jane Doe, Marketing Manager\n",
    "\n",
    "Professional Experience:\n",
    "\n",
    "Marketing Manager | Horizon Marketing Solutions | 2018 - Present\n",
    "- Spearheaded end-to-end marketing efforts for a diverse portfolio of clients, resulting in a 20 percent average increase in annual revenue.\n",
    "- Led a cross-functional team of 10 professionals, fostering a collaborative environment and achieving a 30 percent improvement in campaign efficiency.\n",
    "- Developed and executed data-driven marketing strategies, resulting in a 25 percent boost in online conversions and a 15 percent increase in social media engagement.\n",
    "- Conducted in-depth market analysis, competitor assessments, and consumer behavior studies to identify new opportunities and optimize existing campaigns.\n",
    "- Collaborated closely with clients to align marketing strategies with their business goals, resulting in a 95 percent client retention rate.\n",
    "\n",
    "Skills:\n",
    "- Marketing Strategy, Brand Development, Campaign Management, Team Leadership, Market Research, Digital Marketing, Data Analysis, Cross-functional Collaboration\n",
    "\n",
    "\"\"\"\n",
    "\n",
    "summarise_resume_prompt_2 = summarise_resume_prompt_template.format(resume=RESUME_2)\n",
    "summary_2 = llm(summarise_resume_prompt_2)\n",
    "print(summary_2)"
   ]
  },
  {
   "cell_type": "code",
   "execution_count": null,
   "metadata": {},
   "outputs": [],
   "source": [
    "evaluation_prompt_2 = evaluation_prompt_template.format(summary=summary_2, resume=RESUME_2)\n",
    "\n",
    "print(llm(evaluation_prompt_2))"
   ]
  },
  {
   "cell_type": "code",
   "execution_count": null,
   "metadata": {},
   "outputs": [],
   "source": [
    "evaluation_prompt_3 = evaluation_prompt_template.format(summary=\"Bob Dole is a zookeeper\", resume=RESUME_2)\n",
    "\n",
    "print(llm(evaluation_prompt_3))"
   ]
  },
  {
   "cell_type": "code",
   "execution_count": null,
   "metadata": {},
   "outputs": [],
   "source": []
  }
 ],
 "metadata": {
  "colab": {
   "provenance": []
  },
  "kernelspec": {
   "display_name": "default:Python",
   "language": "python",
   "name": "conda-env-default-py"
  },
  "language_info": {
   "codemirror_mode": {
    "name": "ipython",
    "version": 3
   },
   "file_extension": ".py",
   "mimetype": "text/x-python",
   "name": "python",
   "nbconvert_exporter": "python",
   "pygments_lexer": "ipython3",
   "version": "3.9.16"
  },
  "widgets": {
   "application/vnd.jupyter.widget-state+json": {
    "053c4f7ddd4c4650a07b263996e6130f": {
     "model_module": "@jupyter-widgets/controls",
     "model_module_version": "1.5.0",
     "model_name": "HTMLModel",
     "state": {
      "_dom_classes": [],
      "_model_module": "@jupyter-widgets/controls",
      "_model_module_version": "1.5.0",
      "_model_name": "HTMLModel",
      "_view_count": null,
      "_view_module": "@jupyter-widgets/controls",
      "_view_module_version": "1.5.0",
      "_view_name": "HTMLView",
      "description": "",
      "description_tooltip": null,
      "layout": "IPY_MODEL_e8b9db92db8f4690adc58bbd5bcd0536",
      "placeholder": "​",
      "style": "IPY_MODEL_17ffb3039f004c1d9b37580971f4614c",
      "value": "Fetching 1 files: 100%"
     }
    },
    "17ffb3039f004c1d9b37580971f4614c": {
     "model_module": "@jupyter-widgets/controls",
     "model_module_version": "1.5.0",
     "model_name": "DescriptionStyleModel",
     "state": {
      "_model_module": "@jupyter-widgets/controls",
      "_model_module_version": "1.5.0",
      "_model_name": "DescriptionStyleModel",
      "_view_count": null,
      "_view_module": "@jupyter-widgets/base",
      "_view_module_version": "1.2.0",
      "_view_name": "StyleView",
      "description_width": ""
     }
    },
    "1fe62a00b85940c3b685ff6a1cacb2fe": {
     "model_module": "@jupyter-widgets/base",
     "model_module_version": "1.2.0",
     "model_name": "LayoutModel",
     "state": {
      "_model_module": "@jupyter-widgets/base",
      "_model_module_version": "1.2.0",
      "_model_name": "LayoutModel",
      "_view_count": null,
      "_view_module": "@jupyter-widgets/base",
      "_view_module_version": "1.2.0",
      "_view_name": "LayoutView",
      "align_content": null,
      "align_items": null,
      "align_self": null,
      "border": null,
      "bottom": null,
      "display": null,
      "flex": null,
      "flex_flow": null,
      "grid_area": null,
      "grid_auto_columns": null,
      "grid_auto_flow": null,
      "grid_auto_rows": null,
      "grid_column": null,
      "grid_gap": null,
      "grid_row": null,
      "grid_template_areas": null,
      "grid_template_columns": null,
      "grid_template_rows": null,
      "height": null,
      "justify_content": null,
      "justify_items": null,
      "left": null,
      "margin": null,
      "max_height": null,
      "max_width": null,
      "min_height": null,
      "min_width": null,
      "object_fit": null,
      "object_position": null,
      "order": null,
      "overflow": null,
      "overflow_x": null,
      "overflow_y": null,
      "padding": null,
      "right": null,
      "top": null,
      "visibility": null,
      "width": null
     }
    },
    "20a3d2e35fce428cb812e723f50d238b": {
     "model_module": "@jupyter-widgets/controls",
     "model_module_version": "1.5.0",
     "model_name": "DescriptionStyleModel",
     "state": {
      "_model_module": "@jupyter-widgets/controls",
      "_model_module_version": "1.5.0",
      "_model_name": "DescriptionStyleModel",
      "_view_count": null,
      "_view_module": "@jupyter-widgets/base",
      "_view_module_version": "1.2.0",
      "_view_name": "StyleView",
      "description_width": ""
     }
    },
    "41e71784eb274bd287c3960d1450b04b": {
     "model_module": "@jupyter-widgets/controls",
     "model_module_version": "1.5.0",
     "model_name": "DescriptionStyleModel",
     "state": {
      "_model_module": "@jupyter-widgets/controls",
      "_model_module_version": "1.5.0",
      "_model_name": "DescriptionStyleModel",
      "_view_count": null,
      "_view_module": "@jupyter-widgets/base",
      "_view_module_version": "1.2.0",
      "_view_name": "StyleView",
      "description_width": ""
     }
    },
    "54d67983569d4683b9c9ab29f94aa5ca": {
     "model_module": "@jupyter-widgets/controls",
     "model_module_version": "1.5.0",
     "model_name": "ProgressStyleModel",
     "state": {
      "_model_module": "@jupyter-widgets/controls",
      "_model_module_version": "1.5.0",
      "_model_name": "ProgressStyleModel",
      "_view_count": null,
      "_view_module": "@jupyter-widgets/base",
      "_view_module_version": "1.2.0",
      "_view_name": "StyleView",
      "bar_color": null,
      "description_width": ""
     }
    },
    "5755933fdb874a479e050d3e8be94b81": {
     "model_module": "@jupyter-widgets/controls",
     "model_module_version": "1.5.0",
     "model_name": "FloatProgressModel",
     "state": {
      "_dom_classes": [],
      "_model_module": "@jupyter-widgets/controls",
      "_model_module_version": "1.5.0",
      "_model_name": "FloatProgressModel",
      "_view_count": null,
      "_view_module": "@jupyter-widgets/controls",
      "_view_module_version": "1.5.0",
      "_view_name": "ProgressView",
      "bar_style": "success",
      "description": "",
      "description_tooltip": null,
      "layout": "IPY_MODEL_744f4b73bf334e08a0e104e54e53fc96",
      "max": 1,
      "min": 0,
      "orientation": "horizontal",
      "style": "IPY_MODEL_54d67983569d4683b9c9ab29f94aa5ca",
      "value": 1
     }
    },
    "6150fe9c8d774caf8970cd4c03800bc6": {
     "model_module": "@jupyter-widgets/controls",
     "model_module_version": "1.5.0",
     "model_name": "HBoxModel",
     "state": {
      "_dom_classes": [],
      "_model_module": "@jupyter-widgets/controls",
      "_model_module_version": "1.5.0",
      "_model_name": "HBoxModel",
      "_view_count": null,
      "_view_module": "@jupyter-widgets/controls",
      "_view_module_version": "1.5.0",
      "_view_name": "HBoxView",
      "box_style": "",
      "children": [
       "IPY_MODEL_df81af484fd64626912d3055b8cb390c",
       "IPY_MODEL_e6c5cd86ec1940f7a9b77bc5df98699b",
       "IPY_MODEL_c6c096a20dae4732b2c0908a496d0d39"
      ],
      "layout": "IPY_MODEL_9238d403065e4de8882458d76d9aed4f"
     }
    },
    "67d13a549f594da2a2d7bc3a696516e8": {
     "model_module": "@jupyter-widgets/controls",
     "model_module_version": "1.5.0",
     "model_name": "HBoxModel",
     "state": {
      "_dom_classes": [],
      "_model_module": "@jupyter-widgets/controls",
      "_model_module_version": "1.5.0",
      "_model_name": "HBoxModel",
      "_view_count": null,
      "_view_module": "@jupyter-widgets/controls",
      "_view_module_version": "1.5.0",
      "_view_name": "HBoxView",
      "box_style": "",
      "children": [
       "IPY_MODEL_053c4f7ddd4c4650a07b263996e6130f",
       "IPY_MODEL_5755933fdb874a479e050d3e8be94b81",
       "IPY_MODEL_ac0e0dad2a6c4cb4932fc0a909fa9609"
      ],
      "layout": "IPY_MODEL_b3b17c9bd1e74a0883bbbc70746b6f7e"
     }
    },
    "744f4b73bf334e08a0e104e54e53fc96": {
     "model_module": "@jupyter-widgets/base",
     "model_module_version": "1.2.0",
     "model_name": "LayoutModel",
     "state": {
      "_model_module": "@jupyter-widgets/base",
      "_model_module_version": "1.2.0",
      "_model_name": "LayoutModel",
      "_view_count": null,
      "_view_module": "@jupyter-widgets/base",
      "_view_module_version": "1.2.0",
      "_view_name": "LayoutView",
      "align_content": null,
      "align_items": null,
      "align_self": null,
      "border": null,
      "bottom": null,
      "display": null,
      "flex": null,
      "flex_flow": null,
      "grid_area": null,
      "grid_auto_columns": null,
      "grid_auto_flow": null,
      "grid_auto_rows": null,
      "grid_column": null,
      "grid_gap": null,
      "grid_row": null,
      "grid_template_areas": null,
      "grid_template_columns": null,
      "grid_template_rows": null,
      "height": null,
      "justify_content": null,
      "justify_items": null,
      "left": null,
      "margin": null,
      "max_height": null,
      "max_width": null,
      "min_height": null,
      "min_width": null,
      "object_fit": null,
      "object_position": null,
      "order": null,
      "overflow": null,
      "overflow_x": null,
      "overflow_y": null,
      "padding": null,
      "right": null,
      "top": null,
      "visibility": null,
      "width": null
     }
    },
    "7fd9d6c75f644c22a4ecf5040e04deb0": {
     "model_module": "@jupyter-widgets/base",
     "model_module_version": "1.2.0",
     "model_name": "LayoutModel",
     "state": {
      "_model_module": "@jupyter-widgets/base",
      "_model_module_version": "1.2.0",
      "_model_name": "LayoutModel",
      "_view_count": null,
      "_view_module": "@jupyter-widgets/base",
      "_view_module_version": "1.2.0",
      "_view_name": "LayoutView",
      "align_content": null,
      "align_items": null,
      "align_self": null,
      "border": null,
      "bottom": null,
      "display": null,
      "flex": null,
      "flex_flow": null,
      "grid_area": null,
      "grid_auto_columns": null,
      "grid_auto_flow": null,
      "grid_auto_rows": null,
      "grid_column": null,
      "grid_gap": null,
      "grid_row": null,
      "grid_template_areas": null,
      "grid_template_columns": null,
      "grid_template_rows": null,
      "height": null,
      "justify_content": null,
      "justify_items": null,
      "left": null,
      "margin": null,
      "max_height": null,
      "max_width": null,
      "min_height": null,
      "min_width": null,
      "object_fit": null,
      "object_position": null,
      "order": null,
      "overflow": null,
      "overflow_x": null,
      "overflow_y": null,
      "padding": null,
      "right": null,
      "top": null,
      "visibility": null,
      "width": null
     }
    },
    "9238d403065e4de8882458d76d9aed4f": {
     "model_module": "@jupyter-widgets/base",
     "model_module_version": "1.2.0",
     "model_name": "LayoutModel",
     "state": {
      "_model_module": "@jupyter-widgets/base",
      "_model_module_version": "1.2.0",
      "_model_name": "LayoutModel",
      "_view_count": null,
      "_view_module": "@jupyter-widgets/base",
      "_view_module_version": "1.2.0",
      "_view_name": "LayoutView",
      "align_content": null,
      "align_items": null,
      "align_self": null,
      "border": null,
      "bottom": null,
      "display": null,
      "flex": null,
      "flex_flow": null,
      "grid_area": null,
      "grid_auto_columns": null,
      "grid_auto_flow": null,
      "grid_auto_rows": null,
      "grid_column": null,
      "grid_gap": null,
      "grid_row": null,
      "grid_template_areas": null,
      "grid_template_columns": null,
      "grid_template_rows": null,
      "height": null,
      "justify_content": null,
      "justify_items": null,
      "left": null,
      "margin": null,
      "max_height": null,
      "max_width": null,
      "min_height": null,
      "min_width": null,
      "object_fit": null,
      "object_position": null,
      "order": null,
      "overflow": null,
      "overflow_x": null,
      "overflow_y": null,
      "padding": null,
      "right": null,
      "top": null,
      "visibility": null,
      "width": null
     }
    },
    "9369ed00595f4551a4e55eb75e091d4f": {
     "model_module": "@jupyter-widgets/base",
     "model_module_version": "1.2.0",
     "model_name": "LayoutModel",
     "state": {
      "_model_module": "@jupyter-widgets/base",
      "_model_module_version": "1.2.0",
      "_model_name": "LayoutModel",
      "_view_count": null,
      "_view_module": "@jupyter-widgets/base",
      "_view_module_version": "1.2.0",
      "_view_name": "LayoutView",
      "align_content": null,
      "align_items": null,
      "align_self": null,
      "border": null,
      "bottom": null,
      "display": null,
      "flex": null,
      "flex_flow": null,
      "grid_area": null,
      "grid_auto_columns": null,
      "grid_auto_flow": null,
      "grid_auto_rows": null,
      "grid_column": null,
      "grid_gap": null,
      "grid_row": null,
      "grid_template_areas": null,
      "grid_template_columns": null,
      "grid_template_rows": null,
      "height": null,
      "justify_content": null,
      "justify_items": null,
      "left": null,
      "margin": null,
      "max_height": null,
      "max_width": null,
      "min_height": null,
      "min_width": null,
      "object_fit": null,
      "object_position": null,
      "order": null,
      "overflow": null,
      "overflow_x": null,
      "overflow_y": null,
      "padding": null,
      "right": null,
      "top": null,
      "visibility": null,
      "width": null
     }
    },
    "a21e05d7bc5d44c4920479ed0e73b629": {
     "model_module": "@jupyter-widgets/base",
     "model_module_version": "1.2.0",
     "model_name": "LayoutModel",
     "state": {
      "_model_module": "@jupyter-widgets/base",
      "_model_module_version": "1.2.0",
      "_model_name": "LayoutModel",
      "_view_count": null,
      "_view_module": "@jupyter-widgets/base",
      "_view_module_version": "1.2.0",
      "_view_name": "LayoutView",
      "align_content": null,
      "align_items": null,
      "align_self": null,
      "border": null,
      "bottom": null,
      "display": null,
      "flex": null,
      "flex_flow": null,
      "grid_area": null,
      "grid_auto_columns": null,
      "grid_auto_flow": null,
      "grid_auto_rows": null,
      "grid_column": null,
      "grid_gap": null,
      "grid_row": null,
      "grid_template_areas": null,
      "grid_template_columns": null,
      "grid_template_rows": null,
      "height": null,
      "justify_content": null,
      "justify_items": null,
      "left": null,
      "margin": null,
      "max_height": null,
      "max_width": null,
      "min_height": null,
      "min_width": null,
      "object_fit": null,
      "object_position": null,
      "order": null,
      "overflow": null,
      "overflow_x": null,
      "overflow_y": null,
      "padding": null,
      "right": null,
      "top": null,
      "visibility": null,
      "width": null
     }
    },
    "ac0e0dad2a6c4cb4932fc0a909fa9609": {
     "model_module": "@jupyter-widgets/controls",
     "model_module_version": "1.5.0",
     "model_name": "HTMLModel",
     "state": {
      "_dom_classes": [],
      "_model_module": "@jupyter-widgets/controls",
      "_model_module_version": "1.5.0",
      "_model_name": "HTMLModel",
      "_view_count": null,
      "_view_module": "@jupyter-widgets/controls",
      "_view_module_version": "1.5.0",
      "_view_name": "HTMLView",
      "description": "",
      "description_tooltip": null,
      "layout": "IPY_MODEL_1fe62a00b85940c3b685ff6a1cacb2fe",
      "placeholder": "​",
      "style": "IPY_MODEL_41e71784eb274bd287c3960d1450b04b",
      "value": " 1/1 [00:00&lt;00:00, 24.91it/s]"
     }
    },
    "b2aeb4cc85584aa08e89cd6117e510f9": {
     "model_module": "@jupyter-widgets/controls",
     "model_module_version": "1.5.0",
     "model_name": "DescriptionStyleModel",
     "state": {
      "_model_module": "@jupyter-widgets/controls",
      "_model_module_version": "1.5.0",
      "_model_name": "DescriptionStyleModel",
      "_view_count": null,
      "_view_module": "@jupyter-widgets/base",
      "_view_module_version": "1.2.0",
      "_view_name": "StyleView",
      "description_width": ""
     }
    },
    "b3b17c9bd1e74a0883bbbc70746b6f7e": {
     "model_module": "@jupyter-widgets/base",
     "model_module_version": "1.2.0",
     "model_name": "LayoutModel",
     "state": {
      "_model_module": "@jupyter-widgets/base",
      "_model_module_version": "1.2.0",
      "_model_name": "LayoutModel",
      "_view_count": null,
      "_view_module": "@jupyter-widgets/base",
      "_view_module_version": "1.2.0",
      "_view_name": "LayoutView",
      "align_content": null,
      "align_items": null,
      "align_self": null,
      "border": null,
      "bottom": null,
      "display": null,
      "flex": null,
      "flex_flow": null,
      "grid_area": null,
      "grid_auto_columns": null,
      "grid_auto_flow": null,
      "grid_auto_rows": null,
      "grid_column": null,
      "grid_gap": null,
      "grid_row": null,
      "grid_template_areas": null,
      "grid_template_columns": null,
      "grid_template_rows": null,
      "height": null,
      "justify_content": null,
      "justify_items": null,
      "left": null,
      "margin": null,
      "max_height": null,
      "max_width": null,
      "min_height": null,
      "min_width": null,
      "object_fit": null,
      "object_position": null,
      "order": null,
      "overflow": null,
      "overflow_x": null,
      "overflow_y": null,
      "padding": null,
      "right": null,
      "top": null,
      "visibility": null,
      "width": null
     }
    },
    "c6c096a20dae4732b2c0908a496d0d39": {
     "model_module": "@jupyter-widgets/controls",
     "model_module_version": "1.5.0",
     "model_name": "HTMLModel",
     "state": {
      "_dom_classes": [],
      "_model_module": "@jupyter-widgets/controls",
      "_model_module_version": "1.5.0",
      "_model_name": "HTMLModel",
      "_view_count": null,
      "_view_module": "@jupyter-widgets/controls",
      "_view_module_version": "1.5.0",
      "_view_name": "HTMLView",
      "description": "",
      "description_tooltip": null,
      "layout": "IPY_MODEL_7fd9d6c75f644c22a4ecf5040e04deb0",
      "placeholder": "​",
      "style": "IPY_MODEL_20a3d2e35fce428cb812e723f50d238b",
      "value": " 1/1 [00:00&lt;00:00, 11.22it/s]"
     }
    },
    "df81af484fd64626912d3055b8cb390c": {
     "model_module": "@jupyter-widgets/controls",
     "model_module_version": "1.5.0",
     "model_name": "HTMLModel",
     "state": {
      "_dom_classes": [],
      "_model_module": "@jupyter-widgets/controls",
      "_model_module_version": "1.5.0",
      "_model_name": "HTMLModel",
      "_view_count": null,
      "_view_module": "@jupyter-widgets/controls",
      "_view_module_version": "1.5.0",
      "_view_name": "HTMLView",
      "description": "",
      "description_tooltip": null,
      "layout": "IPY_MODEL_9369ed00595f4551a4e55eb75e091d4f",
      "placeholder": "​",
      "style": "IPY_MODEL_b2aeb4cc85584aa08e89cd6117e510f9",
      "value": "Fetching 1 files: 100%"
     }
    },
    "e6c5cd86ec1940f7a9b77bc5df98699b": {
     "model_module": "@jupyter-widgets/controls",
     "model_module_version": "1.5.0",
     "model_name": "FloatProgressModel",
     "state": {
      "_dom_classes": [],
      "_model_module": "@jupyter-widgets/controls",
      "_model_module_version": "1.5.0",
      "_model_name": "FloatProgressModel",
      "_view_count": null,
      "_view_module": "@jupyter-widgets/controls",
      "_view_module_version": "1.5.0",
      "_view_name": "ProgressView",
      "bar_style": "success",
      "description": "",
      "description_tooltip": null,
      "layout": "IPY_MODEL_a21e05d7bc5d44c4920479ed0e73b629",
      "max": 1,
      "min": 0,
      "orientation": "horizontal",
      "style": "IPY_MODEL_ed105cbac094427f96ea1dc3b26ead88",
      "value": 1
     }
    },
    "e8b9db92db8f4690adc58bbd5bcd0536": {
     "model_module": "@jupyter-widgets/base",
     "model_module_version": "1.2.0",
     "model_name": "LayoutModel",
     "state": {
      "_model_module": "@jupyter-widgets/base",
      "_model_module_version": "1.2.0",
      "_model_name": "LayoutModel",
      "_view_count": null,
      "_view_module": "@jupyter-widgets/base",
      "_view_module_version": "1.2.0",
      "_view_name": "LayoutView",
      "align_content": null,
      "align_items": null,
      "align_self": null,
      "border": null,
      "bottom": null,
      "display": null,
      "flex": null,
      "flex_flow": null,
      "grid_area": null,
      "grid_auto_columns": null,
      "grid_auto_flow": null,
      "grid_auto_rows": null,
      "grid_column": null,
      "grid_gap": null,
      "grid_row": null,
      "grid_template_areas": null,
      "grid_template_columns": null,
      "grid_template_rows": null,
      "height": null,
      "justify_content": null,
      "justify_items": null,
      "left": null,
      "margin": null,
      "max_height": null,
      "max_width": null,
      "min_height": null,
      "min_width": null,
      "object_fit": null,
      "object_position": null,
      "order": null,
      "overflow": null,
      "overflow_x": null,
      "overflow_y": null,
      "padding": null,
      "right": null,
      "top": null,
      "visibility": null,
      "width": null
     }
    },
    "ed105cbac094427f96ea1dc3b26ead88": {
     "model_module": "@jupyter-widgets/controls",
     "model_module_version": "1.5.0",
     "model_name": "ProgressStyleModel",
     "state": {
      "_model_module": "@jupyter-widgets/controls",
      "_model_module_version": "1.5.0",
      "_model_name": "ProgressStyleModel",
      "_view_count": null,
      "_view_module": "@jupyter-widgets/base",
      "_view_module_version": "1.2.0",
      "_view_name": "StyleView",
      "bar_color": null,
      "description_width": ""
     }
    }
   }
  }
 },
 "nbformat": 4,
 "nbformat_minor": 4
}
